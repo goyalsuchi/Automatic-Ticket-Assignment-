{
 "cells": [
  {
   "cell_type": "code",
   "execution_count": 1,
   "metadata": {
    "colab": {
     "base_uri": "https://localhost:8080/",
     "height": 71
    },
    "colab_type": "code",
    "executionInfo": {
     "elapsed": 1016,
     "status": "ok",
     "timestamp": 1597253960616,
     "user": {
      "displayName": "Vishnu Prasad",
      "photoUrl": "",
      "userId": "08035500217640603750"
     },
     "user_tz": -330
    },
    "id": "_AqCPyMbgRcq",
    "outputId": "7937db0c-ecb6-45f1-9c6d-717ecbfc007c"
   },
   "outputs": [
    {
     "name": "stderr",
     "output_type": "stream",
     "text": [
      "/usr/local/lib/python3.6/dist-packages/statsmodels/tools/_testing.py:19: FutureWarning: pandas.util.testing is deprecated. Use the functions in the public API at pandas.testing instead.\n",
      "  import pandas.util.testing as tm\n"
     ]
    }
   ],
   "source": [
    "# Importing the necessary basic libraries required for working on dataframe, data cleansing, visualization\n",
    "import pandas as pd\n",
    "import numpy as np\n",
    "import matplotlib.pyplot as plt\n",
    "%matplotlib inline\n",
    "import seaborn as sns"
   ]
  },
  {
   "cell_type": "code",
   "execution_count": 2,
   "metadata": {
    "colab": {
     "base_uri": "https://localhost:8080/",
     "height": 34
    },
    "colab_type": "code",
    "executionInfo": {
     "elapsed": 1870,
     "status": "ok",
     "timestamp": 1597253963521,
     "user": {
      "displayName": "Vishnu Prasad",
      "photoUrl": "",
      "userId": "08035500217640603750"
     },
     "user_tz": -330
    },
    "id": "T7kIhiqOgwNa",
    "outputId": "3c86d41f-ec56-4e8e-e2ea-3c653de9f3e1"
   },
   "outputs": [
    {
     "name": "stdout",
     "output_type": "stream",
     "text": [
      "Mounted at /content/gdrive\n"
     ]
    }
   ],
   "source": [
    "from google.colab import drive\n",
    "drive.mount('/content/gdrive')"
   ]
  },
  {
   "cell_type": "code",
   "execution_count": 3,
   "metadata": {
    "colab": {
     "base_uri": "https://localhost:8080/",
     "height": 35
    },
    "colab_type": "code",
    "executionInfo": {
     "elapsed": 1196,
     "status": "ok",
     "timestamp": 1597253966708,
     "user": {
      "displayName": "Vishnu Prasad",
      "photoUrl": "",
      "userId": "08035500217640603750"
     },
     "user_tz": -330
    },
    "id": "5tqWocmogdie",
    "outputId": "6b7dc33f-c12e-4718-fa85-962dbf255584"
   },
   "outputs": [
    {
     "data": {
      "application/vnd.google.colaboratory.intrinsic+json": {
       "type": "string"
      },
      "text/plain": [
       "'/content/gdrive/My Drive/Capstone_NLP'"
      ]
     },
     "execution_count": 3,
     "metadata": {
      "tags": []
     },
     "output_type": "execute_result"
    }
   ],
   "source": [
    "#Set your project path \n",
    "import os\n",
    "project_path =  '/content/gdrive/My Drive/Capstone_NLP'\n",
    "os.chdir(project_path)\n",
    "os.getcwd()"
   ]
  },
  {
   "cell_type": "code",
   "execution_count": 4,
   "metadata": {
    "colab": {},
    "colab_type": "code",
    "executionInfo": {
     "elapsed": 996,
     "status": "ok",
     "timestamp": 1597253968270,
     "user": {
      "displayName": "Vishnu Prasad",
      "photoUrl": "",
      "userId": "08035500217640603750"
     },
     "user_tz": -330
    },
    "id": "CajMW5AIhCJ0"
   },
   "outputs": [],
   "source": [
    "# Reading the cleansed input data\n",
    "deep_data = pd.read_excel('Cleansed_imb_df.xlsx')"
   ]
  },
  {
   "cell_type": "code",
   "execution_count": 5,
   "metadata": {
    "colab": {
     "base_uri": "https://localhost:8080/",
     "height": 238
    },
    "colab_type": "code",
    "executionInfo": {
     "elapsed": 1842,
     "status": "ok",
     "timestamp": 1597253970867,
     "user": {
      "displayName": "Vishnu Prasad",
      "photoUrl": "",
      "userId": "08035500217640603750"
     },
     "user_tz": -330
    },
    "id": "po5cgsHTX_a5",
    "outputId": "205eb22c-4dec-4340-87fa-eb6020d344f8"
   },
   "outputs": [
    {
     "name": "stdout",
     "output_type": "stream",
     "text": [
      "First five rows of cleaned data are:\n",
      "\n"
     ]
    },
    {
     "data": {
      "text/html": [
       "<div>\n",
       "<style scoped>\n",
       "    .dataframe tbody tr th:only-of-type {\n",
       "        vertical-align: middle;\n",
       "    }\n",
       "\n",
       "    .dataframe tbody tr th {\n",
       "        vertical-align: top;\n",
       "    }\n",
       "\n",
       "    .dataframe thead th {\n",
       "        text-align: right;\n",
       "    }\n",
       "</style>\n",
       "<table border=\"1\" class=\"dataframe\">\n",
       "  <thead>\n",
       "    <tr style=\"text-align: right;\">\n",
       "      <th></th>\n",
       "      <th>Unnamed: 0</th>\n",
       "      <th>Cleansed_Desc</th>\n",
       "      <th>Assignment_Group</th>\n",
       "      <th>Counts</th>\n",
       "    </tr>\n",
       "  </thead>\n",
       "  <tbody>\n",
       "    <tr>\n",
       "      <th>0</th>\n",
       "      <td>0</td>\n",
       "      <td>login issue verified user detail employee mana...</td>\n",
       "      <td>GRP_0</td>\n",
       "      <td>3206</td>\n",
       "    </tr>\n",
       "    <tr>\n",
       "      <th>1</th>\n",
       "      <td>1</td>\n",
       "      <td>outlook hmjdrvpb komuaywn team meeting skype m...</td>\n",
       "      <td>GRP_0</td>\n",
       "      <td>3206</td>\n",
       "    </tr>\n",
       "    <tr>\n",
       "      <th>2</th>\n",
       "      <td>2</td>\n",
       "      <td>cant log vpn eylqgodm ybqkwiam hi not log vpn ...</td>\n",
       "      <td>GRP_0</td>\n",
       "      <td>3206</td>\n",
       "    </tr>\n",
       "    <tr>\n",
       "      <th>3</th>\n",
       "      <td>3</td>\n",
       "      <td>unable access hr tool page unable access hr to...</td>\n",
       "      <td>GRP_0</td>\n",
       "      <td>3206</td>\n",
       "    </tr>\n",
       "    <tr>\n",
       "      <th>4</th>\n",
       "      <td>4</td>\n",
       "      <td>skype error skype error</td>\n",
       "      <td>GRP_0</td>\n",
       "      <td>3206</td>\n",
       "    </tr>\n",
       "  </tbody>\n",
       "</table>\n",
       "</div>"
      ],
      "text/plain": [
       "   Unnamed: 0  ... Counts\n",
       "0           0  ...   3206\n",
       "1           1  ...   3206\n",
       "2           2  ...   3206\n",
       "3           3  ...   3206\n",
       "4           4  ...   3206\n",
       "\n",
       "[5 rows x 4 columns]"
      ]
     },
     "execution_count": 5,
     "metadata": {
      "tags": []
     },
     "output_type": "execute_result"
    }
   ],
   "source": [
    "#checking the first five rows of the cleaned data\n",
    "print('First five rows of cleaned data are:\\n')\n",
    "deep_data.head()"
   ]
  },
  {
   "cell_type": "code",
   "execution_count": 6,
   "metadata": {
    "colab": {},
    "colab_type": "code",
    "executionInfo": {
     "elapsed": 702,
     "status": "ok",
     "timestamp": 1597253971243,
     "user": {
      "displayName": "Vishnu Prasad",
      "photoUrl": "",
      "userId": "08035500217640603750"
     },
     "user_tz": -330
    },
    "id": "I1U3mKhtaSMt"
   },
   "outputs": [],
   "source": [
    "# Dropping the unnecessary columns\n",
    "cols=['Unnamed: 0', 'Counts']\n",
    "deep_data.drop(columns=cols,inplace=True)"
   ]
  },
  {
   "cell_type": "code",
   "execution_count": 7,
   "metadata": {
    "colab": {
     "base_uri": "https://localhost:8080/",
     "height": 102
    },
    "colab_type": "code",
    "executionInfo": {
     "elapsed": 932,
     "status": "ok",
     "timestamp": 1597253973727,
     "user": {
      "displayName": "Vishnu Prasad",
      "photoUrl": "",
      "userId": "08035500217640603750"
     },
     "user_tz": -330
    },
    "id": "n8-HzYZOakx8",
    "outputId": "83b3c535-4d4a-43e9-deeb-803fe0014d88"
   },
   "outputs": [
    {
     "name": "stdout",
     "output_type": "stream",
     "text": [
      "Data after deleting the columns\n",
      "                                       Cleansed_Desc Assignment_Group\n",
      "0  login issue verified user detail employee mana...            GRP_0\n",
      "1  outlook hmjdrvpb komuaywn team meeting skype m...            GRP_0\n",
      "(7904, 2)\n"
     ]
    }
   ],
   "source": [
    "print('Data after deleting the columns')\n",
    "print(deep_data.head(2))\n",
    "print(deep_data.shape)"
   ]
  },
  {
   "cell_type": "code",
   "execution_count": 8,
   "metadata": {
    "colab": {
     "base_uri": "https://localhost:8080/",
     "height": 170
    },
    "colab_type": "code",
    "executionInfo": {
     "elapsed": 882,
     "status": "ok",
     "timestamp": 1597253976073,
     "user": {
      "displayName": "Vishnu Prasad",
      "photoUrl": "",
      "userId": "08035500217640603750"
     },
     "user_tz": -330
    },
    "id": "ju5OtW0ceLkI",
    "outputId": "b8d19d6b-d9f9-4e0e-d469-dac0f3fcff21"
   },
   "outputs": [
    {
     "name": "stdout",
     "output_type": "stream",
     "text": [
      "<class 'pandas.core.frame.DataFrame'>\n",
      "RangeIndex: 7904 entries, 0 to 7903\n",
      "Data columns (total 2 columns):\n",
      " #   Column            Non-Null Count  Dtype \n",
      "---  ------            --------------  ----- \n",
      " 0   Cleansed_Desc     7904 non-null   object\n",
      " 1   Assignment_Group  7904 non-null   object\n",
      "dtypes: object(2)\n",
      "memory usage: 123.6+ KB\n"
     ]
    }
   ],
   "source": [
    "# Basic info of the dataset\n",
    "deep_data.info()"
   ]
  },
  {
   "cell_type": "code",
   "execution_count": 9,
   "metadata": {
    "colab": {},
    "colab_type": "code",
    "executionInfo": {
     "elapsed": 975,
     "status": "ok",
     "timestamp": 1597253978375,
     "user": {
      "displayName": "Vishnu Prasad",
      "photoUrl": "",
      "userId": "08035500217640603750"
     },
     "user_tz": -330
    },
    "id": "MN8mF93qMuIk"
   },
   "outputs": [],
   "source": [
    "# Removing any missing values\n",
    "deep_data.dropna(axis=0, subset=['Cleansed_Desc'], inplace=True)\n",
    "deep_data.reset_index(drop=True, inplace=True)"
   ]
  },
  {
   "cell_type": "code",
   "execution_count": 10,
   "metadata": {
    "colab": {
     "base_uri": "https://localhost:8080/",
     "height": 34
    },
    "colab_type": "code",
    "executionInfo": {
     "elapsed": 884,
     "status": "ok",
     "timestamp": 1597253980106,
     "user": {
      "displayName": "Vishnu Prasad",
      "photoUrl": "",
      "userId": "08035500217640603750"
     },
     "user_tz": -330
    },
    "id": "xPVQNSzkeTP9",
    "outputId": "b3b7836b-fd9a-4387-ab9c-ae1835d94992"
   },
   "outputs": [
    {
     "data": {
      "text/plain": [
       "(7904, 2)"
      ]
     },
     "execution_count": 10,
     "metadata": {
      "tags": []
     },
     "output_type": "execute_result"
    }
   ],
   "source": [
    "deep_data.shape"
   ]
  },
  {
   "cell_type": "code",
   "execution_count": 11,
   "metadata": {
    "colab": {
     "base_uri": "https://localhost:8080/",
     "height": 34
    },
    "colab_type": "code",
    "executionInfo": {
     "elapsed": 967,
     "status": "ok",
     "timestamp": 1597253982086,
     "user": {
      "displayName": "Vishnu Prasad",
      "photoUrl": "",
      "userId": "08035500217640603750"
     },
     "user_tz": -330
    },
    "id": "QYT_b5UMEpbX",
    "outputId": "6c4c8e06-7bd8-4c83-d046-0b66003a4bd1"
   },
   "outputs": [
    {
     "name": "stdout",
     "output_type": "stream",
     "text": [
      "TensorFlow 1.x selected.\n"
     ]
    }
   ],
   "source": [
    "# Tensorflow version 1.x specifically needed for the Universal Sentence Encoder to run with tensorflow\n",
    "\n",
    "%tensorflow_version 1.x"
   ]
  },
  {
   "cell_type": "code",
   "execution_count": 22,
   "metadata": {
    "colab": {},
    "colab_type": "code",
    "executionInfo": {
     "elapsed": 5681,
     "status": "ok",
     "timestamp": 1597254134745,
     "user": {
      "displayName": "Vishnu Prasad",
      "photoUrl": "",
      "userId": "08035500217640603750"
     },
     "user_tz": -330
    },
    "id": "A_4RhCbybVNP"
   },
   "outputs": [],
   "source": [
    "# Importing all the necessary libraries required for deep learning model\n",
    "import tensorflow as tf\n",
    "import tensorflow_hub as hub\n",
    "from tensorflow.keras.preprocessing.text import Tokenizer\n",
    "from tensorflow.keras.preprocessing.sequence import pad_sequences\n",
    "from tensorflow.keras.layers import Dense, Input, Lambda, LSTM, TimeDistributed, Embedding, Dropout, Activation, Flatten, Bidirectional, GlobalMaxPool1D\n",
    "from tensorflow.keras.models import Model, Sequential\n",
    "from tensorflow.keras.callbacks import ModelCheckpoint, EarlyStopping, ReduceLROnPlateau"
   ]
  },
  {
   "cell_type": "markdown",
   "metadata": {
    "colab_type": "text",
    "id": "pPhIRKHNe3Ev"
   },
   "source": [
    "#### 4. Universal Sentence Encoder"
   ]
  },
  {
   "cell_type": "markdown",
   "metadata": {
    "colab_type": "text",
    "id": "t1W6MyeSkUOK"
   },
   "source": [
    "This is one of the ways to generate word embeddings for the sentences. Unlike Word2Vec or Glove embeddings, this one generates a fixed length 512 dimensional vector word embedding of the entire sentence, which has two variants - one with a 6 layer Transformer rchitecture, and the other using Deep Averarging Network"
   ]
  },
  {
   "cell_type": "code",
   "execution_count": null,
   "metadata": {
    "colab": {
     "base_uri": "https://localhost:8080/",
     "height": 51
    },
    "colab_type": "code",
    "executionInfo": {
     "elapsed": 1029,
     "status": "ok",
     "timestamp": 1597158968575,
     "user": {
      "displayName": "Vishnu Prasad",
      "photoUrl": "",
      "userId": "08035500217640603750"
     },
     "user_tz": -330
    },
    "id": "1YtFFoSc8kKS",
    "outputId": "76eff7d2-9846-47bc-df81-9de8cedb6a67"
   },
   "outputs": [
    {
     "name": "stdout",
     "output_type": "stream",
     "text": [
      "1.15.2\n",
      "0.8.0\n"
     ]
    }
   ],
   "source": [
    "print(tf.__version__)\n",
    "print(hub.__version__)"
   ]
  },
  {
   "cell_type": "code",
   "execution_count": null,
   "metadata": {
    "colab": {},
    "colab_type": "code",
    "id": "7gQc6knM7dSE"
   },
   "outputs": [],
   "source": [
    "# Disabling eager execution of tensorflow\n",
    "tf.compat.v1.disable_eager_execution()"
   ]
  },
  {
   "cell_type": "code",
   "execution_count": null,
   "metadata": {
    "colab": {
     "base_uri": "https://localhost:8080/",
     "height": 51
    },
    "colab_type": "code",
    "executionInfo": {
     "elapsed": 26194,
     "status": "ok",
     "timestamp": 1597158997158,
     "user": {
      "displayName": "Vishnu Prasad",
      "photoUrl": "",
      "userId": "08035500217640603750"
     },
     "user_tz": -330
    },
    "id": "CTNM9_Kze-ar",
    "outputId": "baf62fb9-faf2-4a2a-87fa-0613bbb2cae8"
   },
   "outputs": [
    {
     "name": "stdout",
     "output_type": "stream",
     "text": [
      "INFO:tensorflow:Saver not created because there are no variables in the graph to restore\n"
     ]
    },
    {
     "name": "stderr",
     "output_type": "stream",
     "text": [
      "INFO:tensorflow:Saver not created because there are no variables in the graph to restore\n"
     ]
    }
   ],
   "source": [
    "from absl import logging\n",
    "module_url = 'https://tfhub.dev/google/universal-sentence-encoder-large/3'\n",
    "\n",
    "#Load Universal Sentence Encoder's TF Hub module\n",
    "embed = hub.Module(module_url)\n",
    "\n",
    "# Generating sample embeddings for the first 2 descriptions\n",
    "messages = [deep_data['Cleansed_Desc'][0], deep_data['Cleansed_Desc'][1]]\n",
    "\n",
    "# Reduce logging output.\n",
    "logging.set_verbosity(logging.ERROR)\n",
    "\n",
    "with tf.Session() as session:\n",
    "  session.run([tf.global_variables_initializer(), tf.tables_initializer()])\n",
    "  message_embeddings = session.run(embed(messages))"
   ]
  },
  {
   "cell_type": "code",
   "execution_count": null,
   "metadata": {
    "colab": {
     "base_uri": "https://localhost:8080/",
     "height": 34
    },
    "colab_type": "code",
    "executionInfo": {
     "elapsed": 916,
     "status": "ok",
     "timestamp": 1597159007064,
     "user": {
      "displayName": "Vishnu Prasad",
      "photoUrl": "",
      "userId": "08035500217640603750"
     },
     "user_tz": -330
    },
    "id": "0OrqxFSkMId6",
    "outputId": "96fe9afd-7727-4e35-848a-124cfc577a38"
   },
   "outputs": [
    {
     "data": {
      "text/plain": [
       "(2, 512)"
      ]
     },
     "execution_count": 16,
     "metadata": {
      "tags": []
     },
     "output_type": "execute_result"
    }
   ],
   "source": [
    "message_embeddings.shape"
   ]
  },
  {
   "cell_type": "markdown",
   "metadata": {
    "colab_type": "text",
    "id": "Zy7O_QzOmqJW"
   },
   "source": [
    "So for the two descriptions given as input, we see that two embeddings have been created, each with 512 dimensions. Let's proceed using this embedding on the entire dataset"
   ]
  },
  {
   "cell_type": "code",
   "execution_count": null,
   "metadata": {
    "colab": {},
    "colab_type": "code",
    "id": "K1jIGqnUNRsq"
   },
   "outputs": [],
   "source": [
    "# Creating a list of descriptions in order to feed to embed function\n",
    "cleansed_list = []\n",
    "for i in range(deep_data.shape[0]):\n",
    "  cleansed_list.append(deep_data['Cleansed_Desc'][i])\n",
    "\n",
    "# Splitting the descriptions so as to avoid embed function encountering OOM resource exhaused error\n",
    "cleansed_list1 = cleansed_list[0:3000]\n",
    "cleansed_list2 = cleansed_list[3000:5000]\n",
    "cleansed_list3 = cleansed_list[5000:7904]"
   ]
  },
  {
   "cell_type": "code",
   "execution_count": null,
   "metadata": {
    "colab": {
     "base_uri": "https://localhost:8080/",
     "height": 119
    },
    "colab_type": "code",
    "executionInfo": {
     "elapsed": 17143,
     "status": "ok",
     "timestamp": 1597159033905,
     "user": {
      "displayName": "Vishnu Prasad",
      "photoUrl": "",
      "userId": "08035500217640603750"
     },
     "user_tz": -330
    },
    "id": "Uqrmh6Mx_Y1g",
    "outputId": "a4bc89c8-bf8d-4239-adf8-73d69d76510b"
   },
   "outputs": [
    {
     "name": "stdout",
     "output_type": "stream",
     "text": [
      "INFO:tensorflow:Saver not created because there are no variables in the graph to restore\n"
     ]
    },
    {
     "name": "stderr",
     "output_type": "stream",
     "text": [
      "INFO:tensorflow:Saver not created because there are no variables in the graph to restore\n"
     ]
    },
    {
     "name": "stdout",
     "output_type": "stream",
     "text": [
      "INFO:tensorflow:Saver not created because there are no variables in the graph to restore\n"
     ]
    },
    {
     "name": "stderr",
     "output_type": "stream",
     "text": [
      "INFO:tensorflow:Saver not created because there are no variables in the graph to restore\n"
     ]
    },
    {
     "name": "stdout",
     "output_type": "stream",
     "text": [
      "INFO:tensorflow:Saver not created because there are no variables in the graph to restore\n"
     ]
    },
    {
     "name": "stderr",
     "output_type": "stream",
     "text": [
      "INFO:tensorflow:Saver not created because there are no variables in the graph to restore\n"
     ]
    }
   ],
   "source": [
    "# Creating Universal Sentence Encoder embedding of fixed-length 512 dimensions\n",
    "with tf.Session() as session:\n",
    "  session.run([tf.global_variables_initializer(), tf.tables_initializer()])\n",
    "  embedding_matrix1 = session.run(embed(cleansed_list1))\n",
    "  embedding_matrix2 = session.run(embed(cleansed_list2))\n",
    "  embedding_matrix3 = session.run(embed(cleansed_list3))"
   ]
  },
  {
   "cell_type": "code",
   "execution_count": null,
   "metadata": {
    "colab": {
     "base_uri": "https://localhost:8080/",
     "height": 34
    },
    "colab_type": "code",
    "executionInfo": {
     "elapsed": 927,
     "status": "ok",
     "timestamp": 1597159041070,
     "user": {
      "displayName": "Vishnu Prasad",
      "photoUrl": "",
      "userId": "08035500217640603750"
     },
     "user_tz": -330
    },
    "id": "71konxDAEfuu",
    "outputId": "c55829f1-7e67-4b4b-b242-ad8e8a772d65"
   },
   "outputs": [
    {
     "name": "stdout",
     "output_type": "stream",
     "text": [
      "(7904, 512)\n"
     ]
    }
   ],
   "source": [
    "# Concatenating the above three generated embeddings \n",
    "embedding_matrix = np.concatenate((embedding_matrix1, embedding_matrix2, embedding_matrix3))\n",
    "print(embedding_matrix.shape)"
   ]
  },
  {
   "cell_type": "code",
   "execution_count": null,
   "metadata": {
    "colab": {
     "base_uri": "https://localhost:8080/",
     "height": 85
    },
    "colab_type": "code",
    "executionInfo": {
     "elapsed": 1446,
     "status": "ok",
     "timestamp": 1597159043419,
     "user": {
      "displayName": "Vishnu Prasad",
      "photoUrl": "",
      "userId": "08035500217640603750"
     },
     "user_tz": -330
    },
    "id": "p7HgDP7hc6UE",
    "outputId": "9f427582-72db-4ce4-aae2-3963b44aa6e3"
   },
   "outputs": [
    {
     "name": "stdout",
     "output_type": "stream",
     "text": [
      "Training dataset : \n",
      "(6323, 200) (6323, 54)\n",
      "Test dataset : \n",
      "(1581, 200) (1581, 54)\n"
     ]
    }
   ],
   "source": [
    "# Creating independent and target variables\n",
    "t = Tokenizer(num_words=8000)\n",
    "t.fit_on_texts(deep_data['Cleansed_Desc'])\n",
    "x = t.texts_to_sequences(deep_data['Cleansed_Desc'])\n",
    "x = pad_sequences(x, padding='post', maxlen = 200)\n",
    "y = np.asarray(pd.get_dummies(deep_data['Assignment_Group']), dtype=np.int8)\n",
    "\n",
    "# Splitting the dataset into train and test sets\n",
    "\n",
    "from sklearn.model_selection import train_test_split\n",
    "\n",
    "x_train, x_test, y_train, y_test = train_test_split(x, y, test_size=0.20, random_state=2018)\n",
    "\n",
    "print('Training dataset : ')\n",
    "print(x_train.shape, y_train.shape)\n",
    "print('Test dataset : ')\n",
    "print(x_test.shape, y_test.shape)"
   ]
  },
  {
   "cell_type": "code",
   "execution_count": null,
   "metadata": {
    "colab": {},
    "colab_type": "code",
    "id": "6y3pawHl2vzw"
   },
   "outputs": [],
   "source": [
    "# Remove the warning messages\n",
    "tf.logging.set_verbosity(tf.logging.ERROR)"
   ]
  },
  {
   "cell_type": "markdown",
   "metadata": {
    "colab_type": "text",
    "id": "m6edrfMDpxZn"
   },
   "source": [
    "Model 10 : LSTM with Universal Sentence Encoder"
   ]
  },
  {
   "cell_type": "code",
   "execution_count": null,
   "metadata": {
    "colab": {
     "base_uri": "https://localhost:8080/",
     "height": 255
    },
    "colab_type": "code",
    "executionInfo": {
     "elapsed": 3131,
     "status": "ok",
     "timestamp": 1597159068054,
     "user": {
      "displayName": "Vishnu Prasad",
      "photoUrl": "",
      "userId": "08035500217640603750"
     },
     "user_tz": -330
    },
    "id": "eByBPqcYeBpn",
    "outputId": "f74fcf9e-7cd1-4909-c0e0-de4e8d3eaddf"
   },
   "outputs": [
    {
     "name": "stdout",
     "output_type": "stream",
     "text": [
      "Model: \"sequential\"\n",
      "_________________________________________________________________\n",
      "Layer (type)                 Output Shape              Param #   \n",
      "=================================================================\n",
      "embedding (Embedding)        (None, 200, 512)          4046848   \n",
      "_________________________________________________________________\n",
      "lstm (LSTM)                  (None, 64)                147712    \n",
      "_________________________________________________________________\n",
      "dense (Dense)                (None, 54)                3510      \n",
      "=================================================================\n",
      "Total params: 4,198,070\n",
      "Trainable params: 4,198,070\n",
      "Non-trainable params: 0\n",
      "_________________________________________________________________\n"
     ]
    }
   ],
   "source": [
    "num_sentences=embedding_matrix.shape[0]\n",
    "embedding_size=embedding_matrix.shape[1]\n",
    "max_len=200\n",
    "# Initialising and defining the layers of the model\n",
    "model_lstm = Sequential()\n",
    "\n",
    "e = Embedding(num_sentences, embedding_size,  input_length=max_len, weights=[embedding_matrix])\n",
    "model_lstm.add(e)\n",
    "model_lstm.add(LSTM(64, dropout=0.2, recurrent_dropout=0.2, trainable=True))\n",
    "model_lstm.add(Dense(54, activation='softmax'))\n",
    "\n",
    "model_lstm.summary()"
   ]
  },
  {
   "cell_type": "code",
   "execution_count": null,
   "metadata": {
    "colab": {},
    "colab_type": "code",
    "id": "pw8y56JGB4kc"
   },
   "outputs": [],
   "source": [
    "# Defining the callbacks\n",
    "stop = EarlyStopping(monitor=\"val_loss\", patience=5, mode=\"min\")\n",
    "reduce_lr = ReduceLROnPlateau(monitor=\"val_acc\", factor=0.5, patience=2, min_lr=1e-7, verbose=1, mode=\"max\")"
   ]
  },
  {
   "cell_type": "code",
   "execution_count": null,
   "metadata": {
    "colab": {
     "base_uri": "https://localhost:8080/",
     "height": 476
    },
    "colab_type": "code",
    "executionInfo": {
     "elapsed": 285449,
     "status": "ok",
     "timestamp": 1597159705862,
     "user": {
      "displayName": "Vishnu Prasad",
      "photoUrl": "",
      "userId": "08035500217640603750"
     },
     "user_tz": -330
    },
    "id": "DjtQzQW9ezBF",
    "outputId": "35976daa-c38a-4812-f553-64be5b5adcfe"
   },
   "outputs": [
    {
     "name": "stdout",
     "output_type": "stream",
     "text": [
      "Train on 5058 samples, validate on 1265 samples\n",
      "Epoch 1/10\n",
      "5058/5058 [==============================] - 30s 6ms/sample - loss: 2.8779 - acc: 0.4039 - val_loss: 2.7791 - val_acc: 0.3889\n",
      "Epoch 2/10\n",
      "5058/5058 [==============================] - 28s 6ms/sample - loss: 2.7132 - acc: 0.4085 - val_loss: 2.7823 - val_acc: 0.3889\n",
      "Epoch 3/10\n",
      "5058/5058 [==============================] - 28s 6ms/sample - loss: 2.7106 - acc: 0.4089 - val_loss: 2.7732 - val_acc: 0.3905\n",
      "Epoch 4/10\n",
      "5058/5058 [==============================] - 28s 6ms/sample - loss: 2.7104 - acc: 0.4104 - val_loss: 2.7689 - val_acc: 0.3913\n",
      "Epoch 5/10\n",
      "5058/5058 [==============================] - 28s 6ms/sample - loss: 2.7047 - acc: 0.4112 - val_loss: 2.7675 - val_acc: 0.3913\n",
      "Epoch 6/10\n",
      "5056/5058 [============================>.] - ETA: 0s - loss: 2.7050 - acc: 0.4116\n",
      "Epoch 00006: ReduceLROnPlateau reducing learning rate to 0.0005000000237487257.\n",
      "5058/5058 [==============================] - 29s 6ms/sample - loss: 2.7052 - acc: 0.4114 - val_loss: 2.7647 - val_acc: 0.3913\n",
      "Epoch 7/10\n",
      "5058/5058 [==============================] - 28s 6ms/sample - loss: 2.6992 - acc: 0.4116 - val_loss: 2.7653 - val_acc: 0.3913\n",
      "Epoch 8/10\n",
      "5056/5058 [============================>.] - ETA: 0s - loss: 2.6974 - acc: 0.4114\n",
      "Epoch 00008: ReduceLROnPlateau reducing learning rate to 0.0002500000118743628.\n",
      "5058/5058 [==============================] - 28s 5ms/sample - loss: 2.6967 - acc: 0.4116 - val_loss: 2.7670 - val_acc: 0.3913\n",
      "Epoch 9/10\n",
      "5058/5058 [==============================] - 28s 5ms/sample - loss: 2.6944 - acc: 0.4116 - val_loss: 2.7663 - val_acc: 0.3913\n",
      "Epoch 10/10\n",
      "5056/5058 [============================>.] - ETA: 0s - loss: 2.6936 - acc: 0.4118\n",
      "Epoch 00010: ReduceLROnPlateau reducing learning rate to 0.0001250000059371814.\n",
      "5058/5058 [==============================] - 28s 5ms/sample - loss: 2.6948 - acc: 0.4116 - val_loss: 2.7666 - val_acc: 0.3913\n"
     ]
    }
   ],
   "source": [
    "# Compile and fit the model\n",
    "from tensorflow.keras.optimizers import Adam\n",
    "opt = Adam(0.1)\n",
    "model_lstm.compile(loss='categorical_crossentropy', optimizer='adam', metrics=['accuracy'])\n",
    "model_lstm_history = model_lstm.fit(x_train, y_train, batch_size=64, epochs=10, validation_split=0.2, callbacks=[stop, reduce_lr])"
   ]
  },
  {
   "cell_type": "code",
   "execution_count": null,
   "metadata": {
    "colab": {
     "base_uri": "https://localhost:8080/",
     "height": 68
    },
    "colab_type": "code",
    "executionInfo": {
     "elapsed": 5047,
     "status": "ok",
     "timestamp": 1597159719655,
     "user": {
      "displayName": "Vishnu Prasad",
      "photoUrl": "",
      "userId": "08035500217640603750"
     },
     "user_tz": -330
    },
    "id": "iLGFuUyC_Ufy",
    "outputId": "403c954a-1cbb-4f97-82f6-2cc049909608"
   },
   "outputs": [
    {
     "name": "stdout",
     "output_type": "stream",
     "text": [
      "Validation accuracy : 39.13\n",
      "1581/1581 [==============================] - 4s 2ms/sample - loss: 2.7101 - acc: 0.4111\n",
      "Test accuracy : 41.11\n"
     ]
    }
   ],
   "source": [
    "val_acc_lstm = model_lstm_history.history['val_acc']\n",
    "val_acc_lstm = np.round(np.max(val_acc_lstm) * 100, 2)\n",
    "print('Validation accuracy : %0.2f' %(val_acc_lstm))\n",
    "test_acc_lstm = model_lstm.evaluate(x_test,y_test)\n",
    "test_acc_lstm = np.round(test_acc_lstm[1] * 100, 2)\n",
    "print('Test accuracy : %0.2f' %(test_acc_lstm))"
   ]
  },
  {
   "cell_type": "code",
   "execution_count": null,
   "metadata": {
    "colab": {
     "base_uri": "https://localhost:8080/",
     "height": 282
    },
    "colab_type": "code",
    "executionInfo": {
     "elapsed": 901,
     "status": "ok",
     "timestamp": 1597159800547,
     "user": {
      "displayName": "Vishnu Prasad",
      "photoUrl": "",
      "userId": "08035500217640603750"
     },
     "user_tz": -330
    },
    "id": "dbhXwGC1Scp2",
    "outputId": "29ccfdca-b847-46c2-aacc-a4a8315050b6"
   },
   "outputs": [
    {
     "data": {
      "text/plain": [
       "<matplotlib.legend.Legend at 0x7efe21312ba8>"
      ]
     },
     "execution_count": 26,
     "metadata": {
      "tags": []
     },
     "output_type": "execute_result"
    },
    {
     "data": {
      "image/png": "[encoded data removed]",
      "text/plain": [
       "<Figure size 432x288 with 1 Axes>"
      ]
     },
     "metadata": {
      "needs_background": "light",
      "tags": []
     },
     "output_type": "display_data"
    }
   ],
   "source": [
    "#plotting epochs versus the accuracy for Training and Validation\n",
    "import matplotlib.pyplot as plt\n",
    "plt.plot(model_lstm_history.epoch,model_lstm_history.history['acc'],label='acc')\n",
    "plt.plot(model_lstm_history.epoch,model_lstm_history.history['val_acc'],label='val')\n",
    "plt.legend()"
   ]
  },
  {
   "cell_type": "code",
   "execution_count": null,
   "metadata": {
    "colab": {
     "base_uri": "https://localhost:8080/",
     "height": 282
    },
    "colab_type": "code",
    "executionInfo": {
     "elapsed": 1069,
     "status": "ok",
     "timestamp": 1597159860357,
     "user": {
      "displayName": "Vishnu Prasad",
      "photoUrl": "",
      "userId": "08035500217640603750"
     },
     "user_tz": -330
    },
    "id": "Guii1xX-Smr2",
    "outputId": "b6a425ee-a189-454a-c345-f46dfc23d795"
   },
   "outputs": [
    {
     "data": {
      "text/plain": [
       "<matplotlib.legend.Legend at 0x7efe20d0a588>"
      ]
     },
     "execution_count": 28,
     "metadata": {
      "tags": []
     },
     "output_type": "execute_result"
    },
    {
     "data": {
      "image/png": "[encoded data removed]",
      "text/plain": [
       "<Figure size 432x288 with 1 Axes>"
      ]
     },
     "metadata": {
      "needs_background": "light",
      "tags": []
     },
     "output_type": "display_data"
    }
   ],
   "source": [
    "#Plotting epochs versus the loss for Training and Validation\n",
    "plt.plot(model_lstm_history.epoch,model_lstm_history.history['loss'],label='acc')\n",
    "plt.plot(model_lstm_history.epoch,model_lstm_history.history['val_loss'],label='val')\n",
    "plt.legend()"
   ]
  },
  {
   "cell_type": "code",
   "execution_count": null,
   "metadata": {
    "colab": {},
    "colab_type": "code",
    "id": "o3tAjhCCIN3p"
   },
   "outputs": [],
   "source": [
    "model_lstm.save('lstm_use.h5')"
   ]
  },
  {
   "cell_type": "markdown",
   "metadata": {
    "colab_type": "text",
    "id": "VpQzpnE7t_PQ"
   },
   "source": [
    "Model 11 : Bi-LSTM with Universal Sentence Encoder"
   ]
  },
  {
   "cell_type": "code",
   "execution_count": null,
   "metadata": {
    "colab": {
     "base_uri": "https://localhost:8080/",
     "height": 255
    },
    "colab_type": "code",
    "executionInfo": {
     "elapsed": 3654,
     "status": "ok",
     "timestamp": 1597159882187,
     "user": {
      "displayName": "Vishnu Prasad",
      "photoUrl": "",
      "userId": "08035500217640603750"
     },
     "user_tz": -330
    },
    "id": "0qcTcshQU5Kt",
    "outputId": "4434bbcd-9fc9-4983-efbf-ee5ba01779c2"
   },
   "outputs": [
    {
     "name": "stdout",
     "output_type": "stream",
     "text": [
      "Model: \"sequential_1\"\n",
      "_________________________________________________________________\n",
      "Layer (type)                 Output Shape              Param #   \n",
      "=================================================================\n",
      "embedding_1 (Embedding)      (None, 200, 512)          4046848   \n",
      "_________________________________________________________________\n",
      "bidirectional (Bidirectional (None, 128)               295424    \n",
      "_________________________________________________________________\n",
      "dense_1 (Dense)              (None, 54)                6966      \n",
      "=================================================================\n",
      "Total params: 4,349,238\n",
      "Trainable params: 4,349,238\n",
      "Non-trainable params: 0\n",
      "_________________________________________________________________\n"
     ]
    }
   ],
   "source": [
    "# Initialising and defining various layers of the model\n",
    "model_blstm = Sequential()\n",
    "\n",
    "e = Embedding(num_sentences, embedding_size,  input_length=max_len, weights=[embedding_matrix])\n",
    "model_blstm.add(e)\n",
    "model_blstm.add(Bidirectional(LSTM(64)))\n",
    "model_blstm.add(Dense(54, activation='softmax'))\n",
    "\n",
    "model_blstm.summary()"
   ]
  },
  {
   "cell_type": "code",
   "execution_count": null,
   "metadata": {
    "colab": {
     "base_uri": "https://localhost:8080/",
     "height": 442
    },
    "colab_type": "code",
    "executionInfo": {
     "elapsed": 332560,
     "status": "ok",
     "timestamp": 1597160589168,
     "user": {
      "displayName": "Vishnu Prasad",
      "photoUrl": "",
      "userId": "08035500217640603750"
     },
     "user_tz": -330
    },
    "id": "agc0DBEpKVPH",
    "outputId": "7954a5b6-394d-4f5c-e4ae-64e7efa55051"
   },
   "outputs": [
    {
     "name": "stdout",
     "output_type": "stream",
     "text": [
      "Train on 5058 samples, validate on 1265 samples\n",
      "Epoch 1/10\n",
      "5058/5058 [==============================] - 35s 7ms/sample - loss: 2.1199 - acc: 0.5018 - val_loss: 2.5853 - val_acc: 0.4364\n",
      "Epoch 2/10\n",
      "5058/5058 [==============================] - 32s 6ms/sample - loss: 2.1382 - acc: 0.4939 - val_loss: 2.5580 - val_acc: 0.4593\n",
      "Epoch 3/10\n",
      "5058/5058 [==============================] - 32s 6ms/sample - loss: 2.1178 - acc: 0.4966 - val_loss: 2.5341 - val_acc: 0.4775\n",
      "Epoch 4/10\n",
      "5058/5058 [==============================] - 33s 7ms/sample - loss: 2.1662 - acc: 0.4986 - val_loss: 2.6263 - val_acc: 0.4609\n",
      "Epoch 5/10\n",
      "5000/5058 [============================>.] - ETA: 0s - loss: 2.1327 - acc: 0.5002\n",
      "Epoch 00005: ReduceLROnPlateau reducing learning rate to 0.02500000037252903.\n",
      "5058/5058 [==============================] - 33s 6ms/sample - loss: 2.1367 - acc: 0.4998 - val_loss: 2.5118 - val_acc: 0.4696\n",
      "Epoch 6/10\n",
      "5058/5058 [==============================] - 32s 6ms/sample - loss: 1.9533 - acc: 0.5202 - val_loss: 2.4551 - val_acc: 0.4585\n",
      "Epoch 7/10\n",
      "5000/5058 [============================>.] - ETA: 0s - loss: 1.9150 - acc: 0.5224\n",
      "Epoch 00007: ReduceLROnPlateau reducing learning rate to 0.012500000186264515.\n",
      "5058/5058 [==============================] - 32s 6ms/sample - loss: 1.9129 - acc: 0.5227 - val_loss: 2.4533 - val_acc: 0.4751\n",
      "Epoch 8/10\n",
      "5058/5058 [==============================] - 32s 6ms/sample - loss: 1.8110 - acc: 0.5388 - val_loss: 2.3856 - val_acc: 0.4814\n",
      "Epoch 9/10\n",
      "5058/5058 [==============================] - 33s 6ms/sample - loss: 1.7765 - acc: 0.5389 - val_loss: 2.3563 - val_acc: 0.4901\n",
      "Epoch 10/10\n",
      "5058/5058 [==============================] - 33s 7ms/sample - loss: 1.7537 - acc: 0.5437 - val_loss: 2.3635 - val_acc: 0.4854\n"
     ]
    }
   ],
   "source": [
    "# Compile and fit the model\n",
    "model_blstm.compile(loss='categorical_crossentropy', optimizer=opt, metrics=['accuracy'])\n",
    "model_blstm_history = model_blstm.fit(x_train, y_train, batch_size=100, epochs=10, validation_split=0.2, verbose=1, callbacks=[stop, reduce_lr])"
   ]
  },
  {
   "cell_type": "code",
   "execution_count": null,
   "metadata": {
    "colab": {
     "base_uri": "https://localhost:8080/",
     "height": 68
    },
    "colab_type": "code",
    "executionInfo": {
     "elapsed": 7304,
     "status": "ok",
     "timestamp": 1597160625761,
     "user": {
      "displayName": "Vishnu Prasad",
      "photoUrl": "",
      "userId": "08035500217640603750"
     },
     "user_tz": -330
    },
    "id": "ogA3ui1e7kE6",
    "outputId": "4c1515e5-4574-4b51-8fd4-cc9fb1dbe3ed"
   },
   "outputs": [
    {
     "name": "stdout",
     "output_type": "stream",
     "text": [
      "Validation accuracy : 49.01\n",
      "1581/1581 [==============================] - 6s 4ms/sample - loss: 2.2583 - acc: 0.5256\n",
      "Test accuracy : 52.56\n"
     ]
    }
   ],
   "source": [
    "val_acc_blstm = model_blstm_history.history['val_acc']\n",
    "val_acc_blstm = np.round(np.max(val_acc_blstm) * 100, 2)\n",
    "print('Validation accuracy : %0.2f' %(val_acc_blstm))\n",
    "test_acc_blstm = model_blstm.evaluate(x_test,y_test)\n",
    "test_acc_blstm = np.round(test_acc_blstm[1] * 100, 2)\n",
    "print('Test accuracy : %0.2f' %(test_acc_blstm))"
   ]
  },
  {
   "cell_type": "code",
   "execution_count": null,
   "metadata": {
    "colab": {
     "base_uri": "https://localhost:8080/",
     "height": 282
    },
    "colab_type": "code",
    "executionInfo": {
     "elapsed": 974,
     "status": "ok",
     "timestamp": 1597160645403,
     "user": {
      "displayName": "Vishnu Prasad",
      "photoUrl": "",
      "userId": "08035500217640603750"
     },
     "user_tz": -330
    },
    "id": "RnhpiOHqMOWO",
    "outputId": "02938557-4efc-4c41-8887-614b9cdc441c"
   },
   "outputs": [
    {
     "data": {
      "text/plain": [
       "<matplotlib.legend.Legend at 0x7efe2029a518>"
      ]
     },
     "execution_count": 34,
     "metadata": {
      "tags": []
     },
     "output_type": "execute_result"
    },
    {
     "data": {
      "image/png": "[encoded data removed]",
      "text/plain": [
       "<Figure size 432x288 with 1 Axes>"
      ]
     },
     "metadata": {
      "needs_background": "light",
      "tags": []
     },
     "output_type": "display_data"
    }
   ],
   "source": [
    "#plotting epochs versus the accuracy for Training and Validation\n",
    "import matplotlib.pyplot as plt\n",
    "plt.plot(model_blstm_history.epoch,model_blstm_history.history['acc'],label='acc')\n",
    "plt.plot(model_blstm_history.epoch,model_blstm_history.history['val_acc'],label='val')\n",
    "plt.legend()"
   ]
  },
  {
   "cell_type": "code",
   "execution_count": null,
   "metadata": {
    "colab": {
     "base_uri": "https://localhost:8080/",
     "height": 282
    },
    "colab_type": "code",
    "executionInfo": {
     "elapsed": 959,
     "status": "ok",
     "timestamp": 1597160670450,
     "user": {
      "displayName": "Vishnu Prasad",
      "photoUrl": "",
      "userId": "08035500217640603750"
     },
     "user_tz": -330
    },
    "id": "bRdpnM92MOXN",
    "outputId": "3f31b8cd-3bab-4fa8-d0bf-46a021055806"
   },
   "outputs": [
    {
     "data": {
      "text/plain": [
       "<matplotlib.legend.Legend at 0x7efe201ce080>"
      ]
     },
     "execution_count": 35,
     "metadata": {
      "tags": []
     },
     "output_type": "execute_result"
    },
    {
     "data": {
      "image/png": "[encoded data removed]",
      "text/plain": [
       "<Figure size 432x288 with 1 Axes>"
      ]
     },
     "metadata": {
      "needs_background": "light",
      "tags": []
     },
     "output_type": "display_data"
    }
   ],
   "source": [
    "#Plotting epochs versus the loss for Training and Validation\n",
    "plt.plot(model_blstm_history.epoch,model_blstm_history.history['loss'],label='acc')\n",
    "plt.plot(model_blstm_history.epoch,model_blstm_history.history['val_loss'],label='val')\n",
    "plt.legend()"
   ]
  },
  {
   "cell_type": "code",
   "execution_count": null,
   "metadata": {
    "colab": {},
    "colab_type": "code",
    "id": "_muNi45QNYil"
   },
   "outputs": [],
   "source": [
    "model_blstm.save('bi-lstm_use.h5')"
   ]
  },
  {
   "cell_type": "markdown",
   "metadata": {
    "colab_type": "text",
    "id": "mp9iSTyZv7M1"
   },
   "source": [
    "Model 12 : Self Attention with Universal Sentence Encoder"
   ]
  },
  {
   "cell_type": "code",
   "execution_count": null,
   "metadata": {
    "colab": {
     "base_uri": "https://localhost:8080/",
     "height": 326
    },
    "colab_type": "code",
    "executionInfo": {
     "elapsed": 6359,
     "status": "ok",
     "timestamp": 1597160691761,
     "user": {
      "displayName": "Vishnu Prasad",
      "photoUrl": "",
      "userId": "08035500217640603750"
     },
     "user_tz": -330
    },
    "id": "vlLP9WQQvwqx",
    "outputId": "6db0b0d8-601e-4354-b632-5dfc0aaa8549"
   },
   "outputs": [
    {
     "name": "stdout",
     "output_type": "stream",
     "text": [
      "Collecting keras-self-attention\n",
      "  Downloading https://files.pythonhosted.org/packages/39/0d/b8ab8469ae55cea199574f4d2c30da4656d310a833a67bb422ad8a056bf0/keras-self-attention-0.47.0.tar.gz\n",
      "Requirement already satisfied: numpy in /usr/local/lib/python3.6/dist-packages (from keras-self-attention) (1.18.5)\n",
      "Requirement already satisfied: Keras in /tensorflow-1.15.2/python3.6 (from keras-self-attention) (2.3.1)\n",
      "Requirement already satisfied: scipy>=0.14 in /usr/local/lib/python3.6/dist-packages (from Keras->keras-self-attention) (1.4.1)\n",
      "Requirement already satisfied: keras-applications>=1.0.6 in /tensorflow-1.15.2/python3.6 (from Keras->keras-self-attention) (1.0.8)\n",
      "Requirement already satisfied: pyyaml in /usr/local/lib/python3.6/dist-packages (from Keras->keras-self-attention) (3.13)\n",
      "Requirement already satisfied: six>=1.9.0 in /usr/local/lib/python3.6/dist-packages (from Keras->keras-self-attention) (1.15.0)\n",
      "Requirement already satisfied: h5py in /usr/local/lib/python3.6/dist-packages (from Keras->keras-self-attention) (2.10.0)\n",
      "Requirement already satisfied: keras-preprocessing>=1.0.5 in /usr/local/lib/python3.6/dist-packages (from Keras->keras-self-attention) (1.1.2)\n",
      "Building wheels for collected packages: keras-self-attention\n",
      "  Building wheel for keras-self-attention (setup.py) ... \u001b[?25l\u001b[?25hdone\n",
      "  Created wheel for keras-self-attention: filename=keras_self_attention-0.47.0-cp36-none-any.whl size=17289 sha256=370bfb3fdd5016b2ef5776b4694f13b3ec2b2307a60eb2670aa2f2c7aef397a2\n",
      "  Stored in directory: /root/.cache/pip/wheels/70/87/01/76c703d5401b65e323927c1fdc665f3fb143282ff67d71e859\n",
      "Successfully built keras-self-attention\n",
      "Installing collected packages: keras-self-attention\n",
      "Successfully installed keras-self-attention-0.47.0\n"
     ]
    }
   ],
   "source": [
    "!pip install keras-self-attention"
   ]
  },
  {
   "cell_type": "code",
   "execution_count": null,
   "metadata": {
    "colab": {
     "base_uri": "https://localhost:8080/",
     "height": 289
    },
    "colab_type": "code",
    "executionInfo": {
     "elapsed": 6701,
     "status": "ok",
     "timestamp": 1597161206149,
     "user": {
      "displayName": "Vishnu Prasad",
      "photoUrl": "",
      "userId": "08035500217640603750"
     },
     "user_tz": -330
    },
    "id": "94EagdkOwR4d",
    "outputId": "97177ee1-707d-4038-d28d-3a0172e11ccd"
   },
   "outputs": [
    {
     "name": "stdout",
     "output_type": "stream",
     "text": [
      "Model: \"sequential_3\"\n",
      "_________________________________________________________________\n",
      "Layer (type)                 Output Shape              Param #   \n",
      "=================================================================\n",
      "embedding_2 (Embedding)      (None, 200, 512)          4046848   \n",
      "_________________________________________________________________\n",
      "bidirectional_1 (Bidirection (None, 200, 128)          295424    \n",
      "_________________________________________________________________\n",
      "seq_weighted_attention_2 (Se (None, 128)               129       \n",
      "_________________________________________________________________\n",
      "dense_1 (Dense)              (None, 54)                6966      \n",
      "=================================================================\n",
      "Total params: 4,349,367\n",
      "Trainable params: 4,349,367\n",
      "Non-trainable params: 0\n",
      "_________________________________________________________________\n"
     ]
    }
   ],
   "source": [
    "from keras.layers import Dense, LSTM, Embedding, Bidirectional\n",
    "from keras.models import Sequential\n",
    "from keras_self_attention import SeqWeightedAttention\n",
    "\n",
    "# Initialising and defining various layers of the model\n",
    "model_sa = Sequential()\n",
    "e = Embedding(num_sentences, embedding_size,  input_length=max_len, weights=[embedding_matrix])\n",
    "model_sa.add(e)\n",
    "model_sa.add(Bidirectional(LSTM(64, return_sequences=True)))\n",
    "model_sa.add(SeqWeightedAttention())\n",
    "model_sa.add(Dense(54, activation='softmax'))\n",
    "model_sa.summary()"
   ]
  },
  {
   "cell_type": "code",
   "execution_count": null,
   "metadata": {
    "colab": {
     "base_uri": "https://localhost:8080/",
     "height": 374
    },
    "colab_type": "code",
    "executionInfo": {
     "elapsed": 197394,
     "status": "ok",
     "timestamp": 1597161778273,
     "user": {
      "displayName": "Vishnu Prasad",
      "photoUrl": "",
      "userId": "08035500217640603750"
     },
     "user_tz": -330
    },
    "id": "g7PkP51sOoLk",
    "outputId": "f6f4e7e2-4106-4190-f903-5e2fd21cc3a4"
   },
   "outputs": [
    {
     "name": "stdout",
     "output_type": "stream",
     "text": [
      "Train on 5058 samples, validate on 1265 samples\n",
      "Epoch 1/10\n",
      "5058/5058 [==============================] - 21s 4ms/step - loss: 2.5064 - accuracy: 0.4616 - val_loss: 2.5335 - val_accuracy: 0.4427\n",
      "Epoch 2/10\n",
      "5058/5058 [==============================] - 19s 4ms/step - loss: 2.3864 - accuracy: 0.4668 - val_loss: 2.4355 - val_accuracy: 0.4783\n",
      "Epoch 3/10\n",
      "5058/5058 [==============================] - 19s 4ms/step - loss: 2.3596 - accuracy: 0.4765 - val_loss: 2.4030 - val_accuracy: 0.4901\n",
      "Epoch 4/10\n",
      "5058/5058 [==============================] - 19s 4ms/step - loss: 2.3964 - accuracy: 0.4733 - val_loss: 2.4409 - val_accuracy: 0.4767\n",
      "Epoch 5/10\n",
      "5058/5058 [==============================] - 19s 4ms/step - loss: 2.3159 - accuracy: 0.4864 - val_loss: 2.4419 - val_accuracy: 0.4514\n",
      "Epoch 6/10\n",
      "5058/5058 [==============================] - 19s 4ms/step - loss: 2.3898 - accuracy: 0.4729 - val_loss: 2.4694 - val_accuracy: 0.4553\n",
      "Epoch 7/10\n",
      "5058/5058 [==============================] - 19s 4ms/step - loss: 2.2656 - accuracy: 0.4913 - val_loss: 2.3779 - val_accuracy: 0.4632\n",
      "Epoch 8/10\n",
      "5058/5058 [==============================] - 19s 4ms/step - loss: 2.2063 - accuracy: 0.4943 - val_loss: 3.8577 - val_accuracy: 0.1905\n",
      "Epoch 9/10\n",
      "5058/5058 [==============================] - 19s 4ms/step - loss: 2.4447 - accuracy: 0.4676 - val_loss: 2.6683 - val_accuracy: 0.4680\n",
      "Epoch 10/10\n",
      "5058/5058 [==============================] - 19s 4ms/step - loss: 2.3353 - accuracy: 0.4852 - val_loss: 2.3618 - val_accuracy: 0.4711\n"
     ]
    }
   ],
   "source": [
    "# Compile and fit the model\n",
    "from keras.optimizers import Adam\n",
    "opt = Adam(0.1)\n",
    "model_sa.compile(loss='categorical_crossentropy', optimizer=opt, metrics=['accuracy'])\n",
    "model_sa_history = model_sa.fit(x_train, y_train, batch_size=100, epochs=10, validation_split=0.2, verbose=1, callbacks=[stop, reduce_lr])"
   ]
  },
  {
   "cell_type": "code",
   "execution_count": null,
   "metadata": {
    "colab": {
     "base_uri": "https://localhost:8080/",
     "height": 68
    },
    "colab_type": "code",
    "executionInfo": {
     "elapsed": 8723,
     "status": "ok",
     "timestamp": 1597162340982,
     "user": {
      "displayName": "Vishnu Prasad",
      "photoUrl": "",
      "userId": "08035500217640603750"
     },
     "user_tz": -330
    },
    "id": "kl30rslGOoLz",
    "outputId": "4ac8906f-f441-41fa-ba6b-85cbd6ce391b"
   },
   "outputs": [
    {
     "name": "stdout",
     "output_type": "stream",
     "text": [
      "Validation accuracy : 49.01\n",
      "1581/1581 [==============================] - 8s 5ms/step\n",
      "Test accuracy : 49.59\n"
     ]
    }
   ],
   "source": [
    "val_acc_sa = model_sa_history.history['val_accuracy']\n",
    "val_acc_sa = np.round(np.max(val_acc_sa) * 100, 2)\n",
    "print('Validation accuracy : %0.2f' %(val_acc_sa))\n",
    "test_acc_sa = model_sa.evaluate(x_test,y_test)\n",
    "test_acc_sa = np.round(test_acc_sa[1] * 100, 2)\n",
    "print('Test accuracy : %0.2f' %(test_acc_sa))"
   ]
  },
  {
   "cell_type": "code",
   "execution_count": null,
   "metadata": {
    "colab": {
     "base_uri": "https://localhost:8080/",
     "height": 282
    },
    "colab_type": "code",
    "executionInfo": {
     "elapsed": 1095,
     "status": "ok",
     "timestamp": 1597161857141,
     "user": {
      "displayName": "Vishnu Prasad",
      "photoUrl": "",
      "userId": "08035500217640603750"
     },
     "user_tz": -330
    },
    "id": "lo71NDdzOoL6",
    "outputId": "3ed1b992-a2a2-4a3d-a4f6-066cff1ea520"
   },
   "outputs": [
    {
     "data": {
      "text/plain": [
       "<matplotlib.legend.Legend at 0x7efe14f8f2b0>"
      ]
     },
     "execution_count": 47,
     "metadata": {
      "tags": []
     },
     "output_type": "execute_result"
    },
    {
     "data": {
      "image/png": "[encoded data removed]",
      "text/plain": [
       "<Figure size 432x288 with 1 Axes>"
      ]
     },
     "metadata": {
      "needs_background": "light",
      "tags": []
     },
     "output_type": "display_data"
    }
   ],
   "source": [
    "#plotting epochs versus the accuracy for Training and Validation\n",
    "import matplotlib.pyplot as plt\n",
    "plt.plot(model_sa_history.epoch,model_sa_history.history['accuracy'],label='acc')\n",
    "plt.plot(model_sa_history.epoch,model_sa_history.history['val_accuracy'],label='val')\n",
    "plt.legend()"
   ]
  },
  {
   "cell_type": "code",
   "execution_count": null,
   "metadata": {
    "colab": {
     "base_uri": "https://localhost:8080/",
     "height": 282
    },
    "colab_type": "code",
    "executionInfo": {
     "elapsed": 2857,
     "status": "ok",
     "timestamp": 1597161876498,
     "user": {
      "displayName": "Vishnu Prasad",
      "photoUrl": "",
      "userId": "08035500217640603750"
     },
     "user_tz": -330
    },
    "id": "SjiRXRVHOoMB",
    "outputId": "aa119c5b-64d5-4471-dbd2-d7674cf1796a"
   },
   "outputs": [
    {
     "data": {
      "text/plain": [
       "<matplotlib.legend.Legend at 0x7efe14eb8a20>"
      ]
     },
     "execution_count": 48,
     "metadata": {
      "tags": []
     },
     "output_type": "execute_result"
    },
    {
     "data": {
      "image/png": "[encoded data removed]",
      "text/plain": [
       "<Figure size 432x288 with 1 Axes>"
      ]
     },
     "metadata": {
      "needs_background": "light",
      "tags": []
     },
     "output_type": "display_data"
    }
   ],
   "source": [
    "#Plotting epochs versus the loss for Training and Validation\n",
    "plt.plot(model_sa_history.epoch,model_sa_history.history['loss'],label='acc')\n",
    "plt.plot(model_sa_history.epoch,model_sa_history.history['val_loss'],label='val')\n",
    "plt.legend()"
   ]
  },
  {
   "cell_type": "code",
   "execution_count": null,
   "metadata": {
    "colab": {},
    "colab_type": "code",
    "id": "sQ6dCf7mOoMI"
   },
   "outputs": [],
   "source": [
    "model_sa.save('sa_use.h5')"
   ]
  },
  {
   "cell_type": "code",
   "execution_count": null,
   "metadata": {
    "colab": {
     "base_uri": "https://localhost:8080/",
     "height": 142
    },
    "colab_type": "code",
    "executionInfo": {
     "elapsed": 861,
     "status": "ok",
     "timestamp": 1597162349674,
     "user": {
      "displayName": "Vishnu Prasad",
      "photoUrl": "",
      "userId": "08035500217640603750"
     },
     "user_tz": -330
    },
    "id": "niT0y4pNSHND",
    "outputId": "d112bdea-30d3-4b8e-9235-6e2ed8eb9b2f"
   },
   "outputs": [
    {
     "data": {
      "text/html": [
       "<div>\n",
       "<style scoped>\n",
       "    .dataframe tbody tr th:only-of-type {\n",
       "        vertical-align: middle;\n",
       "    }\n",
       "\n",
       "    .dataframe tbody tr th {\n",
       "        vertical-align: top;\n",
       "    }\n",
       "\n",
       "    .dataframe thead th {\n",
       "        text-align: right;\n",
       "    }\n",
       "</style>\n",
       "<table border=\"1\" class=\"dataframe\">\n",
       "  <thead>\n",
       "    <tr style=\"text-align: right;\">\n",
       "      <th></th>\n",
       "      <th>Algorithm</th>\n",
       "      <th>Validation Accuracy(%)</th>\n",
       "      <th>Test Accuracy(%)</th>\n",
       "    </tr>\n",
       "  </thead>\n",
       "  <tbody>\n",
       "    <tr>\n",
       "      <th>0</th>\n",
       "      <td>LSTM model with USE Embedding</td>\n",
       "      <td>39.13</td>\n",
       "      <td>41.11</td>\n",
       "    </tr>\n",
       "    <tr>\n",
       "      <th>1</th>\n",
       "      <td>Bi-LSTM model with USE Embedding</td>\n",
       "      <td>49.01</td>\n",
       "      <td>52.56</td>\n",
       "    </tr>\n",
       "    <tr>\n",
       "      <th>2</th>\n",
       "      <td>Self Attention with USE Embedding</td>\n",
       "      <td>49.01</td>\n",
       "      <td>49.59</td>\n",
       "    </tr>\n",
       "  </tbody>\n",
       "</table>\n",
       "</div>"
      ],
      "text/plain": [
       "                           Algorithm  Validation Accuracy(%)  Test Accuracy(%)\n",
       "0      LSTM model with USE Embedding                   39.13             41.11\n",
       "1   Bi-LSTM model with USE Embedding                   49.01             52.56\n",
       "2  Self Attention with USE Embedding                   49.01             49.59"
      ]
     },
     "execution_count": 55,
     "metadata": {
      "tags": []
     },
     "output_type": "execute_result"
    }
   ],
   "source": [
    "use_df = pd.DataFrame({'Algorithm' : ['LSTM model with USE Embedding', ' Bi-LSTM model with USE Embedding', \n",
    "                                        'Self Attention with USE Embedding'],\n",
    "                         'Validation Accuracy(%)' : [val_acc_lstm, val_acc_blstm, val_acc_sa],\n",
    "                         'Test Accuracy(%)' : [test_acc_lstm, test_acc_blstm, test_acc_sa]})\n",
    "use_df"
   ]
  },
  {
   "cell_type": "markdown",
   "metadata": {
    "colab_type": "text",
    "id": "7y10z_LSpdDC"
   },
   "source": [
    "### 5. BERT Embedding"
   ]
  },
  {
   "cell_type": "markdown",
   "metadata": {
    "colab_type": "text",
    "id": "nBQBznhBptB8"
   },
   "source": [
    "Bi-Directional Encoder Representation for Transformers\n",
    "\n",
    "BERT models were pre-trained using a large corpus of sentences. In brief, the training is done by masking a few words (~15% of the words according to the authors of the paper) in a sentence and tasking the model to predict the masked words. And as the model trains to predict, it learns to produce a powerful internal representation of words as word embedding.\n",
    "\n",
    "BERT model has been introduced by Google in 2018 and it opened the doors for transfer learning in NLP.\n",
    "\n",
    "In order to use BERT embedding, we will load Pytorch pre-trained BERT model"
   ]
  },
  {
   "cell_type": "code",
   "execution_count": 12,
   "metadata": {
    "colab": {
     "base_uri": "https://localhost:8080/",
     "height": 343
    },
    "colab_type": "code",
    "executionInfo": {
     "elapsed": 3949,
     "status": "ok",
     "timestamp": 1597254016872,
     "user": {
      "displayName": "Vishnu Prasad",
      "photoUrl": "",
      "userId": "08035500217640603750"
     },
     "user_tz": -330
    },
    "id": "GLU4Aqw2plhZ",
    "outputId": "3938fbf7-b798-4353-cafb-57d75cdf509a"
   },
   "outputs": [
    {
     "name": "stdout",
     "output_type": "stream",
     "text": [
      "Requirement already satisfied: pytorch_pretrained_bert in /usr/local/lib/python3.6/dist-packages (0.6.2)\n",
      "Requirement already satisfied: torch>=0.4.1 in /usr/local/lib/python3.6/dist-packages (from pytorch_pretrained_bert) (1.6.0+cu101)\n",
      "Requirement already satisfied: tqdm in /usr/local/lib/python3.6/dist-packages (from pytorch_pretrained_bert) (4.41.1)\n",
      "Requirement already satisfied: boto3 in /usr/local/lib/python3.6/dist-packages (from pytorch_pretrained_bert) (1.14.37)\n",
      "Requirement already satisfied: regex in /usr/local/lib/python3.6/dist-packages (from pytorch_pretrained_bert) (2019.12.20)\n",
      "Requirement already satisfied: requests in /usr/local/lib/python3.6/dist-packages (from pytorch_pretrained_bert) (2.23.0)\n",
      "Requirement already satisfied: numpy in /usr/local/lib/python3.6/dist-packages (from pytorch_pretrained_bert) (1.18.5)\n",
      "Requirement already satisfied: future in /usr/local/lib/python3.6/dist-packages (from torch>=0.4.1->pytorch_pretrained_bert) (0.16.0)\n",
      "Requirement already satisfied: jmespath<1.0.0,>=0.7.1 in /usr/local/lib/python3.6/dist-packages (from boto3->pytorch_pretrained_bert) (0.10.0)\n",
      "Requirement already satisfied: s3transfer<0.4.0,>=0.3.0 in /usr/local/lib/python3.6/dist-packages (from boto3->pytorch_pretrained_bert) (0.3.3)\n",
      "Requirement already satisfied: botocore<1.18.0,>=1.17.37 in /usr/local/lib/python3.6/dist-packages (from boto3->pytorch_pretrained_bert) (1.17.37)\n",
      "Requirement already satisfied: chardet<4,>=3.0.2 in /usr/local/lib/python3.6/dist-packages (from requests->pytorch_pretrained_bert) (3.0.4)\n",
      "Requirement already satisfied: certifi>=2017.4.17 in /usr/local/lib/python3.6/dist-packages (from requests->pytorch_pretrained_bert) (2020.6.20)\n",
      "Requirement already satisfied: urllib3!=1.25.0,!=1.25.1,<1.26,>=1.21.1 in /usr/local/lib/python3.6/dist-packages (from requests->pytorch_pretrained_bert) (1.24.3)\n",
      "Requirement already satisfied: idna<3,>=2.5 in /usr/local/lib/python3.6/dist-packages (from requests->pytorch_pretrained_bert) (2.10)\n",
      "Requirement already satisfied: docutils<0.16,>=0.10 in /usr/local/lib/python3.6/dist-packages (from botocore<1.18.0,>=1.17.37->boto3->pytorch_pretrained_bert) (0.15.2)\n",
      "Requirement already satisfied: python-dateutil<3.0.0,>=2.1 in /usr/local/lib/python3.6/dist-packages (from botocore<1.18.0,>=1.17.37->boto3->pytorch_pretrained_bert) (2.8.1)\n",
      "Requirement already satisfied: six>=1.5 in /usr/local/lib/python3.6/dist-packages (from python-dateutil<3.0.0,>=2.1->botocore<1.18.0,>=1.17.37->boto3->pytorch_pretrained_bert) (1.15.0)\n"
     ]
    }
   ],
   "source": [
    "!pip install pytorch_pretrained_bert"
   ]
  },
  {
   "cell_type": "code",
   "execution_count": 13,
   "metadata": {
    "colab": {},
    "colab_type": "code",
    "executionInfo": {
     "elapsed": 1433,
     "status": "ok",
     "timestamp": 1597254041271,
     "user": {
      "displayName": "Vishnu Prasad",
      "photoUrl": "",
      "userId": "08035500217640603750"
     },
     "user_tz": -330
    },
    "id": "VTvfCwzfqFOi"
   },
   "outputs": [],
   "source": [
    "from pytorch_pretrained_bert import BertTokenizer\n",
    "from pytorch_pretrained_bert.modeling import BertModel"
   ]
  },
  {
   "cell_type": "code",
   "execution_count": 14,
   "metadata": {
    "colab": {},
    "colab_type": "code",
    "executionInfo": {
     "elapsed": 4398,
     "status": "ok",
     "timestamp": 1597254045408,
     "user": {
      "displayName": "Vishnu Prasad",
      "photoUrl": "",
      "userId": "08035500217640603750"
     },
     "user_tz": -330
    },
    "id": "2_aQfHLa9eOa"
   },
   "outputs": [],
   "source": [
    "# Initialising the BERTTokenizer using transfer learning and creating tokens\n",
    "\n",
    "tokenizer1 = BertTokenizer.from_pretrained('bert-base-uncased')\n",
    "tokenized_desc = [tokenizer1.tokenize(desc) for desc in deep_data['Cleansed_Desc'].values]"
   ]
  },
  {
   "cell_type": "code",
   "execution_count": 15,
   "metadata": {
    "colab": {
     "base_uri": "https://localhost:8080/",
     "height": 34
    },
    "colab_type": "code",
    "executionInfo": {
     "elapsed": 6794,
     "status": "ok",
     "timestamp": 1597254053193,
     "user": {
      "displayName": "Vishnu Prasad",
      "photoUrl": "",
      "userId": "08035500217640603750"
     },
     "user_tz": -330
    },
    "id": "EYY-xWNfqcwA",
    "outputId": "d3d7d6cc-efed-4229-c202-0637c36a0fac"
   },
   "outputs": [
    {
     "name": "stdout",
     "output_type": "stream",
     "text": [
      "Loaded BERT Embedding Matrix of size:  (30522, 768)\n"
     ]
    }
   ],
   "source": [
    "# Get the BERT word embeddings from the pre-trained model\n",
    "def get_bert_embed_matrix():\n",
    "    bert = BertModel.from_pretrained('bert-base-uncased')\n",
    "    bert_embeddings = list(bert.children())[0]\n",
    "    bert_word_embeddings = list(bert_embeddings.children())[0]\n",
    "    mat = bert_word_embeddings.weight.data.numpy()\n",
    "    return mat\n",
    "\n",
    "bert_embedding_matrix = get_bert_embed_matrix()\n",
    "print('Loaded BERT Embedding Matrix of size: ', bert_embedding_matrix.shape)"
   ]
  },
  {
   "cell_type": "code",
   "execution_count": 16,
   "metadata": {
    "colab": {
     "base_uri": "https://localhost:8080/",
     "height": 34
    },
    "colab_type": "code",
    "executionInfo": {
     "elapsed": 9697,
     "status": "ok",
     "timestamp": 1597254089032,
     "user": {
      "displayName": "Vishnu Prasad",
      "photoUrl": "",
      "userId": "08035500217640603750"
     },
     "user_tz": -330
    },
    "id": "mzuaqeOdrCbm",
    "outputId": "27cf07d3-7fe5-4bba-ec43-8173500dcc80"
   },
   "outputs": [
    {
     "data": {
      "text/plain": [
       "(30522, 768)"
      ]
     },
     "execution_count": 16,
     "metadata": {
      "tags": []
     },
     "output_type": "execute_result"
    }
   ],
   "source": [
    "# Converting BERT Embedding matrix as a Data Frame\n",
    "bert_embedding_matrix = pd.DataFrame(bert_embedding_matrix)\n",
    "bert_embedding_matrix.shape"
   ]
  },
  {
   "cell_type": "code",
   "execution_count": 17,
   "metadata": {
    "colab": {
     "base_uri": "https://localhost:8080/",
     "height": 204
    },
    "colab_type": "code",
    "executionInfo": {
     "elapsed": 1949,
     "status": "ok",
     "timestamp": 1597254092725,
     "user": {
      "displayName": "Vishnu Prasad",
      "photoUrl": "",
      "userId": "08035500217640603750"
     },
     "user_tz": -330
    },
    "id": "ZcnDwdagqd9y",
    "outputId": "c6164fe3-02fe-4971-bf02-58bd373f91f3"
   },
   "outputs": [
    {
     "data": {
      "text/html": [
       "<div>\n",
       "<style scoped>\n",
       "    .dataframe tbody tr th:only-of-type {\n",
       "        vertical-align: middle;\n",
       "    }\n",
       "\n",
       "    .dataframe tbody tr th {\n",
       "        vertical-align: top;\n",
       "    }\n",
       "\n",
       "    .dataframe thead th {\n",
       "        text-align: right;\n",
       "    }\n",
       "</style>\n",
       "<table border=\"1\" class=\"dataframe\">\n",
       "  <thead>\n",
       "    <tr style=\"text-align: right;\">\n",
       "      <th></th>\n",
       "      <th>Cleansed_Desc</th>\n",
       "      <th>Assignment_Group</th>\n",
       "      <th>Tokenized_Desc</th>\n",
       "    </tr>\n",
       "  </thead>\n",
       "  <tbody>\n",
       "    <tr>\n",
       "      <th>0</th>\n",
       "      <td>login issue verified user detail employee mana...</td>\n",
       "      <td>GRP_0</td>\n",
       "      <td>[log, ##in, issue, verified, user, detail, emp...</td>\n",
       "    </tr>\n",
       "    <tr>\n",
       "      <th>1</th>\n",
       "      <td>outlook hmjdrvpb komuaywn team meeting skype m...</td>\n",
       "      <td>GRP_0</td>\n",
       "      <td>[outlook, hm, ##j, ##dr, ##v, ##p, ##b, ko, ##...</td>\n",
       "    </tr>\n",
       "    <tr>\n",
       "      <th>2</th>\n",
       "      <td>cant log vpn eylqgodm ybqkwiam hi not log vpn ...</td>\n",
       "      <td>GRP_0</td>\n",
       "      <td>[can, ##t, log, vp, ##n, e, ##yl, ##q, ##go, #...</td>\n",
       "    </tr>\n",
       "    <tr>\n",
       "      <th>3</th>\n",
       "      <td>unable access hr tool page unable access hr to...</td>\n",
       "      <td>GRP_0</td>\n",
       "      <td>[unable, access, hr, tool, page, unable, acces...</td>\n",
       "    </tr>\n",
       "    <tr>\n",
       "      <th>4</th>\n",
       "      <td>skype error skype error</td>\n",
       "      <td>GRP_0</td>\n",
       "      <td>[sky, ##pe, error, sky, ##pe, error]</td>\n",
       "    </tr>\n",
       "  </tbody>\n",
       "</table>\n",
       "</div>"
      ],
      "text/plain": [
       "                                       Cleansed_Desc  ...                                     Tokenized_Desc\n",
       "0  login issue verified user detail employee mana...  ...  [log, ##in, issue, verified, user, detail, emp...\n",
       "1  outlook hmjdrvpb komuaywn team meeting skype m...  ...  [outlook, hm, ##j, ##dr, ##v, ##p, ##b, ko, ##...\n",
       "2  cant log vpn eylqgodm ybqkwiam hi not log vpn ...  ...  [can, ##t, log, vp, ##n, e, ##yl, ##q, ##go, #...\n",
       "3  unable access hr tool page unable access hr to...  ...  [unable, access, hr, tool, page, unable, acces...\n",
       "4                            skype error skype error  ...               [sky, ##pe, error, sky, ##pe, error]\n",
       "\n",
       "[5 rows x 3 columns]"
      ]
     },
     "execution_count": 17,
     "metadata": {
      "tags": []
     },
     "output_type": "execute_result"
    }
   ],
   "source": [
    "# Creating a copy of the cleansed dataset\n",
    "deep_bert_df = deep_data.copy()\n",
    "# Adding list of created tokens to the dataset\n",
    "deep_bert_df['Tokenized_Desc'] = pd.Series(tokenized_desc)\n",
    "deep_bert_df.head()"
   ]
  },
  {
   "cell_type": "code",
   "execution_count": 18,
   "metadata": {
    "colab": {},
    "colab_type": "code",
    "executionInfo": {
     "elapsed": 841,
     "status": "ok",
     "timestamp": 1597254095130,
     "user": {
      "displayName": "Vishnu Prasad",
      "photoUrl": "",
      "userId": "08035500217640603750"
     },
     "user_tz": -330
    },
    "id": "vrQT1GHqq4sk"
   },
   "outputs": [],
   "source": [
    "# Creating individual tokens so as to feed to the models\n",
    "tokenized_desc = []\n",
    "for i in range(deep_bert_df.shape[0]):\n",
    "  tokens = \",\".join(str(token) for token in deep_bert_df['Tokenized_Desc'][i])\n",
    "  tokenized_desc.append(tokens)"
   ]
  },
  {
   "cell_type": "code",
   "execution_count": 19,
   "metadata": {
    "colab": {
     "base_uri": "https://localhost:8080/",
     "height": 204
    },
    "colab_type": "code",
    "executionInfo": {
     "elapsed": 804,
     "status": "ok",
     "timestamp": 1597254096828,
     "user": {
      "displayName": "Vishnu Prasad",
      "photoUrl": "",
      "userId": "08035500217640603750"
     },
     "user_tz": -330
    },
    "id": "t7sgRwqtKikh",
    "outputId": "1c718eb7-aa63-43f1-9ceb-e74400f9753d"
   },
   "outputs": [
    {
     "data": {
      "text/html": [
       "<div>\n",
       "<style scoped>\n",
       "    .dataframe tbody tr th:only-of-type {\n",
       "        vertical-align: middle;\n",
       "    }\n",
       "\n",
       "    .dataframe tbody tr th {\n",
       "        vertical-align: top;\n",
       "    }\n",
       "\n",
       "    .dataframe thead th {\n",
       "        text-align: right;\n",
       "    }\n",
       "</style>\n",
       "<table border=\"1\" class=\"dataframe\">\n",
       "  <thead>\n",
       "    <tr style=\"text-align: right;\">\n",
       "      <th></th>\n",
       "      <th>Cleansed_Desc</th>\n",
       "      <th>Assignment_Group</th>\n",
       "      <th>Tokenized_Desc</th>\n",
       "      <th>Tokens</th>\n",
       "    </tr>\n",
       "  </thead>\n",
       "  <tbody>\n",
       "    <tr>\n",
       "      <th>0</th>\n",
       "      <td>login issue verified user detail employee mana...</td>\n",
       "      <td>GRP_0</td>\n",
       "      <td>[log, ##in, issue, verified, user, detail, emp...</td>\n",
       "      <td>log,##in,issue,verified,user,detail,employee,m...</td>\n",
       "    </tr>\n",
       "    <tr>\n",
       "      <th>1</th>\n",
       "      <td>outlook hmjdrvpb komuaywn team meeting skype m...</td>\n",
       "      <td>GRP_0</td>\n",
       "      <td>[outlook, hm, ##j, ##dr, ##v, ##p, ##b, ko, ##...</td>\n",
       "      <td>outlook,hm,##j,##dr,##v,##p,##b,ko,##mu,##ay,#...</td>\n",
       "    </tr>\n",
       "    <tr>\n",
       "      <th>2</th>\n",
       "      <td>cant log vpn eylqgodm ybqkwiam hi not log vpn ...</td>\n",
       "      <td>GRP_0</td>\n",
       "      <td>[can, ##t, log, vp, ##n, e, ##yl, ##q, ##go, #...</td>\n",
       "      <td>can,##t,log,vp,##n,e,##yl,##q,##go,##dm,y,##b,...</td>\n",
       "    </tr>\n",
       "    <tr>\n",
       "      <th>3</th>\n",
       "      <td>unable access hr tool page unable access hr to...</td>\n",
       "      <td>GRP_0</td>\n",
       "      <td>[unable, access, hr, tool, page, unable, acces...</td>\n",
       "      <td>unable,access,hr,tool,page,unable,access,hr,to...</td>\n",
       "    </tr>\n",
       "    <tr>\n",
       "      <th>4</th>\n",
       "      <td>skype error skype error</td>\n",
       "      <td>GRP_0</td>\n",
       "      <td>[sky, ##pe, error, sky, ##pe, error]</td>\n",
       "      <td>sky,##pe,error,sky,##pe,error</td>\n",
       "    </tr>\n",
       "  </tbody>\n",
       "</table>\n",
       "</div>"
      ],
      "text/plain": [
       "                                       Cleansed_Desc  ...                                             Tokens\n",
       "0  login issue verified user detail employee mana...  ...  log,##in,issue,verified,user,detail,employee,m...\n",
       "1  outlook hmjdrvpb komuaywn team meeting skype m...  ...  outlook,hm,##j,##dr,##v,##p,##b,ko,##mu,##ay,#...\n",
       "2  cant log vpn eylqgodm ybqkwiam hi not log vpn ...  ...  can,##t,log,vp,##n,e,##yl,##q,##go,##dm,y,##b,...\n",
       "3  unable access hr tool page unable access hr to...  ...  unable,access,hr,tool,page,unable,access,hr,to...\n",
       "4                            skype error skype error  ...                      sky,##pe,error,sky,##pe,error\n",
       "\n",
       "[5 rows x 4 columns]"
      ]
     },
     "execution_count": 19,
     "metadata": {
      "tags": []
     },
     "output_type": "execute_result"
    }
   ],
   "source": [
    "# Adding individually created tokens to the dataset\n",
    "deep_bert_df['Tokens'] = pd.Series(tokenized_desc)\n",
    "deep_bert_df.head()"
   ]
  },
  {
   "cell_type": "markdown",
   "metadata": {
    "colab_type": "text",
    "id": "SOGII4uGLMTA"
   },
   "source": [
    "Now we have two columns for tokens - one as a list and the other as individual tokens. Let's use the list of tokens to find the unique tokens in the dataset, and the individual tokens to feed to the model"
   ]
  },
  {
   "cell_type": "code",
   "execution_count": 20,
   "metadata": {
    "colab": {
     "base_uri": "https://localhost:8080/",
     "height": 34
    },
    "colab_type": "code",
    "executionInfo": {
     "elapsed": 835,
     "status": "ok",
     "timestamp": 1597254100440,
     "user": {
      "displayName": "Vishnu Prasad",
      "photoUrl": "",
      "userId": "08035500217640603750"
     },
     "user_tz": -330
    },
    "id": "-B52fsOILfrA",
    "outputId": "306f1ed4-771e-4d14-fdc9-931dd9328c37"
   },
   "outputs": [
    {
     "name": "stdout",
     "output_type": "stream",
     "text": [
      "Number of unique tokens in the dataset :  7016\n"
     ]
    }
   ],
   "source": [
    "desc_set = set()\n",
    "deep_bert_df['Tokenized_Desc'].apply(desc_set.update)\n",
    "print('Number of unique tokens in the dataset : ', len(desc_set))"
   ]
  },
  {
   "cell_type": "code",
   "execution_count": 23,
   "metadata": {
    "colab": {},
    "colab_type": "code",
    "executionInfo": {
     "elapsed": 1140,
     "status": "ok",
     "timestamp": 1597254156674,
     "user": {
      "displayName": "Vishnu Prasad",
      "photoUrl": "",
      "userId": "08035500217640603750"
     },
     "user_tz": -330
    },
    "id": "FxWqBUmqLj5c"
   },
   "outputs": [],
   "source": [
    "# Using the above unique number of tokens let's fix the maximum vocabulary words as 8000\n",
    "t = Tokenizer(num_words=8000)\n",
    "t.fit_on_texts(deep_bert_df['Tokens'])"
   ]
  },
  {
   "cell_type": "code",
   "execution_count": 24,
   "metadata": {
    "colab": {},
    "colab_type": "code",
    "executionInfo": {
     "elapsed": 870,
     "status": "ok",
     "timestamp": 1597254160017,
     "user": {
      "displayName": "Vishnu Prasad",
      "photoUrl": "",
      "userId": "08035500217640603750"
     },
     "user_tz": -330
    },
    "id": "Ei8rZamgL-KA"
   },
   "outputs": [],
   "source": [
    "# Defining x and y for the model\n",
    "x = t.texts_to_sequences(deep_bert_df['Tokens'])\n",
    "x = pad_sequences(x, padding='post', maxlen = 200)\n",
    "y = np.asarray(pd.get_dummies(deep_bert_df['Assignment_Group']), dtype=np.int8)"
   ]
  },
  {
   "cell_type": "code",
   "execution_count": 25,
   "metadata": {
    "colab": {
     "base_uri": "https://localhost:8080/",
     "height": 51
    },
    "colab_type": "code",
    "executionInfo": {
     "elapsed": 1020,
     "status": "ok",
     "timestamp": 1597254161981,
     "user": {
      "displayName": "Vishnu Prasad",
      "photoUrl": "",
      "userId": "08035500217640603750"
     },
     "user_tz": -330
    },
    "id": "GCviPaq-MSwd",
    "outputId": "5672cdb9-c29f-4809-a758-2036036dae28"
   },
   "outputs": [
    {
     "name": "stdout",
     "output_type": "stream",
     "text": [
      "(6323, 200)\n",
      "(1581, 200)\n"
     ]
    }
   ],
   "source": [
    "#Train test split\n",
    "from sklearn.model_selection import train_test_split\n",
    "x_train, x_test, y_train, y_test = train_test_split(x, y, test_size=0.2, random_state=2020)\n",
    "print(x_train.shape)\n",
    "print(x_test.shape)"
   ]
  },
  {
   "cell_type": "markdown",
   "metadata": {
    "colab_type": "text",
    "id": "kTrU-CNWMYg8"
   },
   "source": [
    "Model 13 : LSTM with BERT Embedding"
   ]
  },
  {
   "cell_type": "code",
   "execution_count": 26,
   "metadata": {
    "colab": {
     "base_uri": "https://localhost:8080/",
     "height": 255
    },
    "colab_type": "code",
    "executionInfo": {
     "elapsed": 12596,
     "status": "ok",
     "timestamp": 1597254185066,
     "user": {
      "displayName": "Vishnu Prasad",
      "photoUrl": "",
      "userId": "08035500217640603750"
     },
     "user_tz": -330
    },
    "id": "mJzkDLmsMUB3",
    "outputId": "43042e15-9d90-4861-cfe1-e3888dec6960"
   },
   "outputs": [
    {
     "name": "stdout",
     "output_type": "stream",
     "text": [
      "Model: \"sequential\"\n",
      "_________________________________________________________________\n",
      "Layer (type)                 Output Shape              Param #   \n",
      "=================================================================\n",
      "embedding (Embedding)        (None, 200, 768)          23440896  \n",
      "_________________________________________________________________\n",
      "lstm (LSTM)                  (None, 64)                213248    \n",
      "_________________________________________________________________\n",
      "dense (Dense)                (None, 54)                3510      \n",
      "=================================================================\n",
      "Total params: 23,657,654\n",
      "Trainable params: 23,657,654\n",
      "Non-trainable params: 0\n",
      "_________________________________________________________________\n"
     ]
    }
   ],
   "source": [
    "# Model building, compiling and summary\n",
    "\n",
    "vocab_size=bert_embedding_matrix.shape[0] # 30522 from transfer learning\n",
    "embedding_size=bert_embedding_matrix.shape[1] #768 from transfer learning\n",
    "max_len=200 # Based on the mean length of sentences in the dataset\n",
    "\n",
    "# Remove the warning messages\n",
    "tf.logging.set_verbosity(tf.logging.ERROR)\n",
    "\n",
    "model_bert = Sequential()\n",
    "\n",
    "e = Embedding(vocab_size, embedding_size, input_length=max_len, weights=[bert_embedding_matrix])\n",
    "model_bert.add(e)\n",
    "model_bert.add(LSTM(64))\n",
    "model_bert.add(Dense(54, activation = 'softmax'))\n",
    "\n",
    "model_bert.compile(optimizer='Adam', loss=['binary_crossentropy'], metrics=['accuracy'])\n",
    "\n",
    "model_bert.summary()"
   ]
  },
  {
   "cell_type": "code",
   "execution_count": 27,
   "metadata": {
    "colab": {
     "base_uri": "https://localhost:8080/",
     "height": 102
    },
    "colab_type": "code",
    "executionInfo": {
     "elapsed": 101156,
     "status": "ok",
     "timestamp": 1597254290072,
     "user": {
      "displayName": "Vishnu Prasad",
      "photoUrl": "",
      "userId": "08035500217640603750"
     },
     "user_tz": -330
    },
    "id": "XFZT4XuFNO9h",
    "outputId": "f4a7ac01-1c6f-49d5-f691-0a471d5eba6c"
   },
   "outputs": [
    {
     "name": "stdout",
     "output_type": "stream",
     "text": [
      "Train on 5058 samples, validate on 1265 samples\n",
      "Epoch 1/2\n",
      "5058/5058 [==============================] - 50s 10ms/sample - loss: 0.0694 - acc: 0.9814 - val_loss: 0.0665 - val_acc: 0.9815\n",
      "Epoch 2/2\n",
      "5058/5058 [==============================] - 49s 10ms/sample - loss: 0.0673 - acc: 0.9815 - val_loss: 0.0666 - val_acc: 0.9815\n"
     ]
    }
   ],
   "source": [
    "# Fit the model\n",
    "\n",
    "model_bert_history = model_bert.fit(x_train,y_train, epochs=2, validation_split=0.2)"
   ]
  },
  {
   "cell_type": "code",
   "execution_count": 29,
   "metadata": {
    "colab": {
     "base_uri": "https://localhost:8080/",
     "height": 68
    },
    "colab_type": "code",
    "executionInfo": {
     "elapsed": 4000,
     "status": "ok",
     "timestamp": 1597254311420,
     "user": {
      "displayName": "Vishnu Prasad",
      "photoUrl": "",
      "userId": "08035500217640603750"
     },
     "user_tz": -330
    },
    "id": "pmfybFMSNSCr",
    "outputId": "60687d9a-05c5-4ce0-9cf1-46dc3e226ff3"
   },
   "outputs": [
    {
     "name": "stdout",
     "output_type": "stream",
     "text": [
      "Validation accuracy : 98.15\n",
      "1581/1581 [==============================] - 3s 2ms/sample - loss: 0.0673 - acc: 0.9815\n",
      "Test accuracy : 98.15\n"
     ]
    }
   ],
   "source": [
    "val_acc_bert = model_bert_history.history['val_acc']\n",
    "val_acc_bert = np.round(np.max(val_acc_bert) * 100, 2)\n",
    "print('Validation accuracy : %0.2f' %(val_acc_bert))\n",
    "test_acc_bert = model_bert.evaluate(x_test,y_test)\n",
    "test_acc_bert = np.round(test_acc_bert[1] * 100, 2)\n",
    "print('Test accuracy : %0.2f' %(test_acc_bert))"
   ]
  },
  {
   "cell_type": "code",
   "execution_count": null,
   "metadata": {
    "colab": {
     "base_uri": "https://localhost:8080/",
     "height": 282
    },
    "colab_type": "code",
    "executionInfo": {
     "elapsed": 1090,
     "status": "ok",
     "timestamp": 1597163116334,
     "user": {
      "displayName": "Vishnu Prasad",
      "photoUrl": "",
      "userId": "08035500217640603750"
     },
     "user_tz": -330
    },
    "id": "7WkHShX-OmcW",
    "outputId": "73c9e1da-d12e-403d-9061-0710acb49e7d"
   },
   "outputs": [
    {
     "data": {
      "text/plain": [
       "<matplotlib.legend.Legend at 0x7efdc9a2b588>"
      ]
     },
     "execution_count": 71,
     "metadata": {
      "tags": []
     },
     "output_type": "execute_result"
    },
    {
     "data": {
      "image/png": "[encoded data removed]",
      "text/plain": [
       "<Figure size 432x288 with 1 Axes>"
      ]
     },
     "metadata": {
      "needs_background": "light",
      "tags": []
     },
     "output_type": "display_data"
    }
   ],
   "source": [
    "#plotting epochs versus the accuracy for Training and Validation\n",
    "import matplotlib.pyplot as plt\n",
    "plt.plot(model_bert_history.epoch,model_bert_history.history['accuracy'],label='acc')\n",
    "plt.plot(model_bert_history.epoch,model_bert_history.history['val_accuracy'],label='val')\n",
    "plt.legend()"
   ]
  },
  {
   "cell_type": "code",
   "execution_count": null,
   "metadata": {
    "colab": {
     "base_uri": "https://localhost:8080/",
     "height": 282
    },
    "colab_type": "code",
    "executionInfo": {
     "elapsed": 898,
     "status": "ok",
     "timestamp": 1597163129688,
     "user": {
      "displayName": "Vishnu Prasad",
      "photoUrl": "",
      "userId": "08035500217640603750"
     },
     "user_tz": -330
    },
    "id": "enYJ3jr2Omcg",
    "outputId": "f918783c-7133-4905-cea0-4f610cab75be"
   },
   "outputs": [
    {
     "data": {
      "text/plain": [
       "<matplotlib.legend.Legend at 0x7efdc99a7160>"
      ]
     },
     "execution_count": 72,
     "metadata": {
      "tags": []
     },
     "output_type": "execute_result"
    },
    {
     "data": {
      "image/png": "[encoded data removed]",
      "text/plain": [
       "<Figure size 432x288 with 1 Axes>"
      ]
     },
     "metadata": {
      "needs_background": "light",
      "tags": []
     },
     "output_type": "display_data"
    }
   ],
   "source": [
    "#Plotting epochs versus the loss for Training and Validation\n",
    "plt.plot(model_bert_history.epoch,model_bert_history.history['loss'],label='acc')\n",
    "plt.plot(model_bert_history.epoch,model_bert_history.history['val_loss'],label='val')\n",
    "plt.legend()"
   ]
  },
  {
   "cell_type": "code",
   "execution_count": null,
   "metadata": {
    "colab": {},
    "colab_type": "code",
    "id": "7P8UxIScXg7_"
   },
   "outputs": [],
   "source": [
    "model_bert.save('lstm_bert.h5')"
   ]
  },
  {
   "cell_type": "markdown",
   "metadata": {
    "colab_type": "text",
    "id": "WjCbB7JDO__j"
   },
   "source": [
    "Model 14 : Bi-LSTM with BERT Embedding"
   ]
  },
  {
   "cell_type": "code",
   "execution_count": 30,
   "metadata": {
    "colab": {
     "base_uri": "https://localhost:8080/",
     "height": 255
    },
    "colab_type": "code",
    "executionInfo": {
     "elapsed": 1187,
     "status": "ok",
     "timestamp": 1597254347604,
     "user": {
      "displayName": "Vishnu Prasad",
      "photoUrl": "",
      "userId": "08035500217640603750"
     },
     "user_tz": -330
    },
    "id": "JO7RWXX3PD3H",
    "outputId": "8a12a812-a01f-4f59-d4a0-1dc2d9e5b181"
   },
   "outputs": [
    {
     "name": "stdout",
     "output_type": "stream",
     "text": [
      "Model: \"sequential_1\"\n",
      "_________________________________________________________________\n",
      "Layer (type)                 Output Shape              Param #   \n",
      "=================================================================\n",
      "embedding_1 (Embedding)      (None, 200, 768)          23440896  \n",
      "_________________________________________________________________\n",
      "bidirectional (Bidirectional (None, 128)               426496    \n",
      "_________________________________________________________________\n",
      "dense_1 (Dense)              (None, 54)                6966      \n",
      "=================================================================\n",
      "Total params: 23,874,358\n",
      "Trainable params: 23,874,358\n",
      "Non-trainable params: 0\n",
      "_________________________________________________________________\n"
     ]
    }
   ],
   "source": [
    "# Model building, compiling and summary\n",
    "\n",
    "vocab_size=bert_embedding_matrix.shape[0]\n",
    "embedding_size=bert_embedding_matrix.shape[1]\n",
    "max_len=200\n",
    "\n",
    "model_bert_blstm = Sequential()\n",
    "\n",
    "e = Embedding(vocab_size, embedding_size, input_length=max_len, weights=[bert_embedding_matrix])\n",
    "model_bert_blstm.add(e)\n",
    "model_bert_blstm.add(Bidirectional(LSTM(64)))\n",
    "model_bert_blstm.add(Dense(54, activation = 'softmax'))\n",
    "\n",
    "model_bert_blstm.compile(optimizer='Adam', loss=['binary_crossentropy'], metrics=['accuracy'])\n",
    "\n",
    "model_bert_blstm.summary()"
   ]
  },
  {
   "cell_type": "code",
   "execution_count": 31,
   "metadata": {
    "colab": {
     "base_uri": "https://localhost:8080/",
     "height": 102
    },
    "colab_type": "code",
    "executionInfo": {
     "elapsed": 208005,
     "status": "ok",
     "timestamp": 1597254566773,
     "user": {
      "displayName": "Vishnu Prasad",
      "photoUrl": "",
      "userId": "08035500217640603750"
     },
     "user_tz": -330
    },
    "id": "OWkxb6Hpnr8z",
    "outputId": "bb4abeb8-11ae-486e-cc86-02aaa5fd8be9"
   },
   "outputs": [
    {
     "name": "stdout",
     "output_type": "stream",
     "text": [
      "Train on 5058 samples, validate on 1265 samples\n",
      "Epoch 1/2\n",
      "5058/5058 [==============================] - 103s 20ms/sample - loss: 0.0609 - acc: 0.9840 - val_loss: 0.0506 - val_acc: 0.9859\n",
      "Epoch 2/2\n",
      "5058/5058 [==============================] - 102s 20ms/sample - loss: 0.0454 - acc: 0.9875 - val_loss: 0.0449 - val_acc: 0.9871\n"
     ]
    }
   ],
   "source": [
    "# Fit the model\n",
    "model_bert_blstm_history = model_bert_blstm.fit(x_train,y_train, epochs=2, validation_split=0.2)"
   ]
  },
  {
   "cell_type": "code",
   "execution_count": 33,
   "metadata": {
    "colab": {
     "base_uri": "https://localhost:8080/",
     "height": 68
    },
    "colab_type": "code",
    "executionInfo": {
     "elapsed": 7122,
     "status": "ok",
     "timestamp": 1597254635800,
     "user": {
      "displayName": "Vishnu Prasad",
      "photoUrl": "",
      "userId": "08035500217640603750"
     },
     "user_tz": -330
    },
    "id": "FJodktn2oCUi",
    "outputId": "6627cf66-258f-4d60-e212-71dd1c8c6302"
   },
   "outputs": [
    {
     "name": "stdout",
     "output_type": "stream",
     "text": [
      "Validation accuracy : 98.71\n",
      "1581/1581 [==============================] - 6s 4ms/sample - loss: 0.0468 - acc: 0.9868\n",
      "Test accuracy : 98.68\n"
     ]
    }
   ],
   "source": [
    "val_acc_bert_blstm = model_bert_blstm_history.history['val_acc']\n",
    "val_acc_bert_blstm = np.round(np.max(val_acc_bert_blstm) * 100, 2)\n",
    "print('Validation accuracy : %0.2f' %(val_acc_bert_blstm))\n",
    "test_acc_bert_blstm = model_bert_blstm.evaluate(x_test,y_test)\n",
    "test_acc_bert_blstm = np.round(test_acc_bert_blstm[1] * 100, 2)\n",
    "print('Test accuracy : %0.2f' %(test_acc_bert_blstm))"
   ]
  },
  {
   "cell_type": "code",
   "execution_count": null,
   "metadata": {
    "colab": {
     "base_uri": "https://localhost:8080/",
     "height": 282
    },
    "colab_type": "code",
    "executionInfo": {
     "elapsed": 824,
     "status": "ok",
     "timestamp": 1597163402024,
     "user": {
      "displayName": "Vishnu Prasad",
      "photoUrl": "",
      "userId": "08035500217640603750"
     },
     "user_tz": -330
    },
    "id": "1_8OP2OuQM0P",
    "outputId": "b1f87482-acc3-4f7b-8b0c-c5172a21919f"
   },
   "outputs": [
    {
     "data": {
      "text/plain": [
       "<matplotlib.legend.Legend at 0x7efdc9425400>"
      ]
     },
     "execution_count": 77,
     "metadata": {
      "tags": []
     },
     "output_type": "execute_result"
    },
    {
     "data": {
      "image/png": "[encoded data removed]",
      "text/plain": [
       "<Figure size 432x288 with 1 Axes>"
      ]
     },
     "metadata": {
      "needs_background": "light",
      "tags": []
     },
     "output_type": "display_data"
    }
   ],
   "source": [
    "#plotting epochs versus the accuracy for Training and Validation\n",
    "import matplotlib.pyplot as plt\n",
    "plt.plot(model_bert_blstm_history.epoch,model_bert_blstm_history.history['accuracy'],label='acc')\n",
    "plt.plot(model_bert_blstm_history.epoch,model_bert_blstm_history.history['val_accuracy'],label='val')\n",
    "plt.legend()"
   ]
  },
  {
   "cell_type": "code",
   "execution_count": null,
   "metadata": {
    "colab": {
     "base_uri": "https://localhost:8080/",
     "height": 282
    },
    "colab_type": "code",
    "executionInfo": {
     "elapsed": 1062,
     "status": "ok",
     "timestamp": 1597163409157,
     "user": {
      "displayName": "Vishnu Prasad",
      "photoUrl": "",
      "userId": "08035500217640603750"
     },
     "user_tz": -330
    },
    "id": "ZEMN4FB4QM0e",
    "outputId": "0fb9aeb7-268f-43cf-d8aa-8f2a57038176"
   },
   "outputs": [
    {
     "data": {
      "text/plain": [
       "<matplotlib.legend.Legend at 0x7efdc9d948d0>"
      ]
     },
     "execution_count": 78,
     "metadata": {
      "tags": []
     },
     "output_type": "execute_result"
    },
    {
     "data": {
      "image/png": "[encoded data removed]",
      "text/plain": [
       "<Figure size 432x288 with 1 Axes>"
      ]
     },
     "metadata": {
      "needs_background": "light",
      "tags": []
     },
     "output_type": "display_data"
    }
   ],
   "source": [
    "#Plotting epochs versus the loss for Training and Validation\n",
    "plt.plot(model_bert_blstm_history.epoch,model_bert_blstm_history.history['loss'],label='acc')\n",
    "plt.plot(model_bert_blstm_history.epoch,model_bert_blstm_history.history['val_loss'],label='val')\n",
    "plt.legend()"
   ]
  },
  {
   "cell_type": "code",
   "execution_count": null,
   "metadata": {
    "colab": {},
    "colab_type": "code",
    "id": "B9gMqxLRXogi"
   },
   "outputs": [],
   "source": [
    "model_bert_blstm.save('blstm_bert.h5')"
   ]
  },
  {
   "cell_type": "markdown",
   "metadata": {
    "colab_type": "text",
    "id": "t4znsGTQRDGu"
   },
   "source": [
    "Model 15 : Self Attention layer with BERT Embedding"
   ]
  },
  {
   "cell_type": "code",
   "execution_count": 34,
   "metadata": {
    "colab": {
     "base_uri": "https://localhost:8080/",
     "height": 170
    },
    "colab_type": "code",
    "executionInfo": {
     "elapsed": 4408,
     "status": "ok",
     "timestamp": 1597254650266,
     "user": {
      "displayName": "Vishnu Prasad",
      "photoUrl": "",
      "userId": "08035500217640603750"
     },
     "user_tz": -330
    },
    "id": "EyONhIH_RnxZ",
    "outputId": "7b61cb2d-82c9-462c-b5fa-333981a0a3ae"
   },
   "outputs": [
    {
     "name": "stdout",
     "output_type": "stream",
     "text": [
      "Requirement already satisfied: keras-self-attention in /usr/local/lib/python3.6/dist-packages (0.47.0)\n",
      "Requirement already satisfied: Keras in /tensorflow-1.15.2/python3.6 (from keras-self-attention) (2.3.1)\n",
      "Requirement already satisfied: numpy in /usr/local/lib/python3.6/dist-packages (from keras-self-attention) (1.18.5)\n",
      "Requirement already satisfied: h5py in /usr/local/lib/python3.6/dist-packages (from Keras->keras-self-attention) (2.10.0)\n",
      "Requirement already satisfied: scipy>=0.14 in /usr/local/lib/python3.6/dist-packages (from Keras->keras-self-attention) (1.4.1)\n",
      "Requirement already satisfied: pyyaml in /usr/local/lib/python3.6/dist-packages (from Keras->keras-self-attention) (3.13)\n",
      "Requirement already satisfied: six>=1.9.0 in /usr/local/lib/python3.6/dist-packages (from Keras->keras-self-attention) (1.15.0)\n",
      "Requirement already satisfied: keras-preprocessing>=1.0.5 in /usr/local/lib/python3.6/dist-packages (from Keras->keras-self-attention) (1.1.2)\n",
      "Requirement already satisfied: keras-applications>=1.0.6 in /tensorflow-1.15.2/python3.6 (from Keras->keras-self-attention) (1.0.8)\n"
     ]
    }
   ],
   "source": [
    "!pip install keras-self-attention"
   ]
  },
  {
   "cell_type": "code",
   "execution_count": 37,
   "metadata": {
    "colab": {
     "base_uri": "https://localhost:8080/",
     "height": 289
    },
    "colab_type": "code",
    "executionInfo": {
     "elapsed": 1972,
     "status": "ok",
     "timestamp": 1597254729596,
     "user": {
      "displayName": "Vishnu Prasad",
      "photoUrl": "",
      "userId": "08035500217640603750"
     },
     "user_tz": -330
    },
    "id": "qvRgFl_ARanJ",
    "outputId": "6ab7250e-c6ee-4bba-8712-b2c810cb5139"
   },
   "outputs": [
    {
     "name": "stdout",
     "output_type": "stream",
     "text": [
      "Model: \"sequential_1\"\n",
      "_________________________________________________________________\n",
      "Layer (type)                 Output Shape              Param #   \n",
      "=================================================================\n",
      "embedding_1 (Embedding)      (None, 200, 768)          23440896  \n",
      "_________________________________________________________________\n",
      "bidirectional_1 (Bidirection (None, 200, 128)          426496    \n",
      "_________________________________________________________________\n",
      "seq_weighted_attention_2 (Se (None, 128)               129       \n",
      "_________________________________________________________________\n",
      "dense_1 (Dense)              (None, 54)                6966      \n",
      "=================================================================\n",
      "Total params: 23,874,487\n",
      "Trainable params: 23,874,487\n",
      "Non-trainable params: 0\n",
      "_________________________________________________________________\n"
     ]
    }
   ],
   "source": [
    "# Import Weighted Self Attention layer\n",
    "import keras\n",
    "from keras_self_attention import SeqWeightedAttention\n",
    "from keras.layers import Embedding, LSTM, Bidirectional, Dense\n",
    "\n",
    "# Model building, compiling and summary\n",
    "vocab_size=bert_embedding_matrix.shape[0]\n",
    "embedding_size=bert_embedding_matrix.shape[1]\n",
    "max_len=200\n",
    "\n",
    "model_bert_sa = keras.models.Sequential()\n",
    "\n",
    "e = Embedding(vocab_size, embedding_size, input_length=max_len, weights=[bert_embedding_matrix])\n",
    "model_bert_sa.add(e)\n",
    "model_bert_sa.add(Bidirectional(LSTM(64, return_sequences=True)))\n",
    "model_bert_sa.add(SeqWeightedAttention())\n",
    "model_bert_sa.add(Dense(54, activation = 'softmax'))\n",
    "\n",
    "model_bert_sa.compile(optimizer='Adam', loss=['binary_crossentropy'], metrics=['accuracy'])\n",
    "\n",
    "model_bert_sa.summary()"
   ]
  },
  {
   "cell_type": "code",
   "execution_count": 39,
   "metadata": {
    "colab": {
     "base_uri": "https://localhost:8080/",
     "height": 102
    },
    "colab_type": "code",
    "executionInfo": {
     "elapsed": 126086,
     "status": "ok",
     "timestamp": 1597254990998,
     "user": {
      "displayName": "Vishnu Prasad",
      "photoUrl": "",
      "userId": "08035500217640603750"
     },
     "user_tz": -330
    },
    "id": "MVjSfoc7Ranc",
    "outputId": "1f296e8e-a286-428b-e586-2c00a9f39814"
   },
   "outputs": [
    {
     "name": "stdout",
     "output_type": "stream",
     "text": [
      "Train on 5058 samples, validate on 1265 samples\n",
      "Epoch 1/2\n",
      "5058/5058 [==============================] - 62s 12ms/step - loss: 0.0384 - accuracy: 0.9891 - val_loss: 0.0405 - val_accuracy: 0.9881\n",
      "Epoch 2/2\n",
      "5058/5058 [==============================] - 63s 12ms/step - loss: 0.0315 - accuracy: 0.9905 - val_loss: 0.0411 - val_accuracy: 0.9882\n"
     ]
    }
   ],
   "source": [
    "# Fit the model\n",
    "model_bert_sa_history = model_bert_sa.fit(x_train,y_train, epochs=2, validation_split=0.2)"
   ]
  },
  {
   "cell_type": "code",
   "execution_count": 40,
   "metadata": {
    "colab": {
     "base_uri": "https://localhost:8080/",
     "height": 68
    },
    "colab_type": "code",
    "executionInfo": {
     "elapsed": 8150,
     "status": "ok",
     "timestamp": 1597255005662,
     "user": {
      "displayName": "Vishnu Prasad",
      "photoUrl": "",
      "userId": "08035500217640603750"
     },
     "user_tz": -330
    },
    "id": "AxUI0zVPRani",
    "outputId": "a091c248-926a-4251-a36d-36c404578a9e"
   },
   "outputs": [
    {
     "name": "stdout",
     "output_type": "stream",
     "text": [
      "Validation accuracy : 98.82\n",
      "1581/1581 [==============================] - 8s 5ms/step\n",
      "Test accuracy : 98.76\n"
     ]
    }
   ],
   "source": [
    "val_acc_bert_sa = model_bert_sa_history.history['val_accuracy']\n",
    "val_acc_bert_sa = np.round(np.max(val_acc_bert_sa) * 100, 2)\n",
    "print('Validation accuracy : %0.2f' %(val_acc_bert_sa))\n",
    "test_acc_bert_sa = model_bert_sa.evaluate(x_test,y_test)\n",
    "test_acc_bert_sa = np.round(test_acc_bert_sa[1] * 100, 2)\n",
    "print('Test accuracy : %0.2f' %(test_acc_bert_sa))"
   ]
  },
  {
   "cell_type": "code",
   "execution_count": null,
   "metadata": {
    "colab": {
     "base_uri": "https://localhost:8080/",
     "height": 282
    },
    "colab_type": "code",
    "executionInfo": {
     "elapsed": 1448,
     "status": "ok",
     "timestamp": 1597163656361,
     "user": {
      "displayName": "Vishnu Prasad",
      "photoUrl": "",
      "userId": "08035500217640603750"
     },
     "user_tz": -330
    },
    "id": "YeqAp_G4Ranp",
    "outputId": "9abd8d0a-39f2-4648-dce0-0e34799a4f55"
   },
   "outputs": [
    {
     "data": {
      "text/plain": [
       "<matplotlib.legend.Legend at 0x7efdc8da8f28>"
      ]
     },
     "execution_count": 85,
     "metadata": {
      "tags": []
     },
     "output_type": "execute_result"
    },
    {
     "data": {
      "image/png": "[encoded data removed]",
      "text/plain": [
       "<Figure size 432x288 with 1 Axes>"
      ]
     },
     "metadata": {
      "needs_background": "light",
      "tags": []
     },
     "output_type": "display_data"
    }
   ],
   "source": [
    "#plotting epochs versus the accuracy for Training and Validation\n",
    "import matplotlib.pyplot as plt\n",
    "plt.plot(model_bert_sa_history.epoch,model_bert_sa_history.history['accuracy'],label='acc')\n",
    "plt.plot(model_bert_sa_history.epoch,model_bert_sa_history.history['val_accuracy'],label='val')\n",
    "plt.legend()"
   ]
  },
  {
   "cell_type": "code",
   "execution_count": null,
   "metadata": {
    "colab": {
     "base_uri": "https://localhost:8080/",
     "height": 282
    },
    "colab_type": "code",
    "executionInfo": {
     "elapsed": 933,
     "status": "ok",
     "timestamp": 1597163661849,
     "user": {
      "displayName": "Vishnu Prasad",
      "photoUrl": "",
      "userId": "08035500217640603750"
     },
     "user_tz": -330
    },
    "id": "2X00X90bRanz",
    "outputId": "72bee3f0-ed3d-4aad-b493-52be361ea73d"
   },
   "outputs": [
    {
     "data": {
      "text/plain": [
       "<matplotlib.legend.Legend at 0x7efdc8d1e048>"
      ]
     },
     "execution_count": 86,
     "metadata": {
      "tags": []
     },
     "output_type": "execute_result"
    },
    {
     "data": {
      "image/png": "[encoded data removed]",
      "text/plain": [
       "<Figure size 432x288 with 1 Axes>"
      ]
     },
     "metadata": {
      "needs_background": "light",
      "tags": []
     },
     "output_type": "display_data"
    }
   ],
   "source": [
    "#Plotting epochs versus the loss for Training and Validation\n",
    "plt.plot(model_bert_sa_history.epoch,model_bert_sa_history.history['loss'],label='acc')\n",
    "plt.plot(model_bert_sa_history.epoch,model_bert_sa_history.history['val_loss'],label='val')\n",
    "plt.legend()"
   ]
  },
  {
   "cell_type": "code",
   "execution_count": null,
   "metadata": {
    "colab": {},
    "colab_type": "code",
    "id": "GV3JsqT6X3wY"
   },
   "outputs": [],
   "source": [
    "model_sa.save('sa_bert.h5')"
   ]
  },
  {
   "cell_type": "code",
   "execution_count": 41,
   "metadata": {
    "colab": {
     "base_uri": "https://localhost:8080/",
     "height": 142
    },
    "colab_type": "code",
    "executionInfo": {
     "elapsed": 818,
     "status": "ok",
     "timestamp": 1597255083018,
     "user": {
      "displayName": "Vishnu Prasad",
      "photoUrl": "",
      "userId": "08035500217640603750"
     },
     "user_tz": -330
    },
    "id": "v_zafV2nYmf3",
    "outputId": "3ae27359-8cd5-4707-c5ae-7bf429b4b9cb"
   },
   "outputs": [
    {
     "data": {
      "text/html": [
       "<div>\n",
       "<style scoped>\n",
       "    .dataframe tbody tr th:only-of-type {\n",
       "        vertical-align: middle;\n",
       "    }\n",
       "\n",
       "    .dataframe tbody tr th {\n",
       "        vertical-align: top;\n",
       "    }\n",
       "\n",
       "    .dataframe thead th {\n",
       "        text-align: right;\n",
       "    }\n",
       "</style>\n",
       "<table border=\"1\" class=\"dataframe\">\n",
       "  <thead>\n",
       "    <tr style=\"text-align: right;\">\n",
       "      <th></th>\n",
       "      <th>Algorithm</th>\n",
       "      <th>Validation Accuracy(%)</th>\n",
       "      <th>Test Accuracy(%)</th>\n",
       "    </tr>\n",
       "  </thead>\n",
       "  <tbody>\n",
       "    <tr>\n",
       "      <th>0</th>\n",
       "      <td>LSTM model with BERT Embedding</td>\n",
       "      <td>98.15</td>\n",
       "      <td>98.15</td>\n",
       "    </tr>\n",
       "    <tr>\n",
       "      <th>1</th>\n",
       "      <td>Bi-LSTM model with BERT Embedding</td>\n",
       "      <td>98.71</td>\n",
       "      <td>98.68</td>\n",
       "    </tr>\n",
       "    <tr>\n",
       "      <th>2</th>\n",
       "      <td>Self Attention with BERT Embedding</td>\n",
       "      <td>98.82</td>\n",
       "      <td>98.76</td>\n",
       "    </tr>\n",
       "  </tbody>\n",
       "</table>\n",
       "</div>"
      ],
      "text/plain": [
       "                            Algorithm  Validation Accuracy(%)  Test Accuracy(%)\n",
       "0      LSTM model with BERT Embedding                   98.15             98.15\n",
       "1   Bi-LSTM model with BERT Embedding                   98.71             98.68\n",
       "2  Self Attention with BERT Embedding                   98.82             98.76"
      ]
     },
     "execution_count": 41,
     "metadata": {
      "tags": []
     },
     "output_type": "execute_result"
    }
   ],
   "source": [
    "bert_df = pd.DataFrame({'Algorithm' : ['LSTM model with BERT Embedding', ' Bi-LSTM model with BERT Embedding', \n",
    "                                        'Self Attention with BERT Embedding'],\n",
    "                         'Validation Accuracy(%)' : [val_acc_bert, val_acc_bert_blstm, val_acc_bert_sa],\n",
    "                         'Test Accuracy(%)' : [test_acc_bert, test_acc_bert_blstm, test_acc_bert_sa]})\n",
    "bert_df"
   ]
  },
  {
   "cell_type": "markdown",
   "metadata": {
    "colab_type": "text",
    "id": "_cvq5CwWncea"
   },
   "source": [
    "###BERT with 74 groups(raw data)"
   ]
  },
  {
   "cell_type": "code",
   "execution_count": null,
   "metadata": {
    "colab": {
     "base_uri": "https://localhost:8080/",
     "height": 122
    },
    "colab_type": "code",
    "executionInfo": {
     "elapsed": 25743,
     "status": "ok",
     "timestamp": 1597248792468,
     "user": {
      "displayName": "Vishnu Prasad",
      "photoUrl": "",
      "userId": "08035500217640603750"
     },
     "user_tz": -330
    },
    "id": "ZuOUy2fpnrQQ",
    "outputId": "c19d7c75-a9dd-433d-c54c-7bd65fb35071"
   },
   "outputs": [
    {
     "name": "stdout",
     "output_type": "stream",
     "text": [
      "Go to this URL in a browser: https://accounts.google.com/o/oauth2/auth?client_id=947318989803-6bn6qk8qdgf4n4g3pfee6491hc0brc4i.apps.googleusercontent.com&redirect_uri=urn%3aietf%3awg%3aoauth%3a2.0%3aoob&scope=email%20https%3a%2f%2fwww.googleapis.com%2fauth%2fdocs.test%20https%3a%2f%2fwww.googleapis.com%2fauth%2fdrive%20https%3a%2f%2fwww.googleapis.com%2fauth%2fdrive.photos.readonly%20https%3a%2f%2fwww.googleapis.com%2fauth%2fpeopleapi.readonly&response_type=code\n",
      "\n",
      "Enter your authorization code:\n",
      "··········\n",
      "Mounted at /content/drive/\n"
     ]
    }
   ],
   "source": [
    "from google.colab import drive\n",
    "drive.mount('/content/drive/')"
   ]
  },
  {
   "cell_type": "code",
   "execution_count": null,
   "metadata": {
    "colab": {
     "base_uri": "https://localhost:8080/",
     "height": 35
    },
    "colab_type": "code",
    "executionInfo": {
     "elapsed": 2098,
     "status": "ok",
     "timestamp": 1597248854486,
     "user": {
      "displayName": "Vishnu Prasad",
      "photoUrl": "",
      "userId": "08035500217640603750"
     },
     "user_tz": -330
    },
    "id": "HFWsH0Gucud_",
    "outputId": "fce37066-6694-4af0-81e2-4c273bab062b"
   },
   "outputs": [
    {
     "data": {
      "application/vnd.google.colaboratory.intrinsic+json": {
       "type": "string"
      },
      "text/plain": [
       "'/content/drive/My Drive/Capstone_NLP'"
      ]
     },
     "execution_count": 3,
     "metadata": {
      "tags": []
     },
     "output_type": "execute_result"
    }
   ],
   "source": [
    "import os\n",
    "os.chdir('/content/drive/My Drive/Capstone_NLP')\n",
    "os.getcwd()"
   ]
  },
  {
   "cell_type": "code",
   "execution_count": null,
   "metadata": {
    "colab": {},
    "colab_type": "code",
    "id": "Tl_bE3MFnr2R"
   },
   "outputs": [],
   "source": [
    "import pandas as pd\n",
    "import numpy as np\n",
    "# Reading the cleansed input data\n",
    "inct_df = pd.read_excel('Cleansed_Raw_Data.xlsx')"
   ]
  },
  {
   "cell_type": "code",
   "execution_count": null,
   "metadata": {
    "colab": {
     "base_uri": "https://localhost:8080/",
     "height": 289
    },
    "colab_type": "code",
    "executionInfo": {
     "elapsed": 752,
     "status": "ok",
     "timestamp": 1597248867798,
     "user": {
      "displayName": "Vishnu Prasad",
      "photoUrl": "",
      "userId": "08035500217640603750"
     },
     "user_tz": -330
    },
    "id": "ztyj0F8Znz89",
    "outputId": "6400c2f3-4091-407a-c824-ae7287bf8c8a"
   },
   "outputs": [
    {
     "data": {
      "text/html": [
       "<div>\n",
       "<style scoped>\n",
       "    .dataframe tbody tr th:only-of-type {\n",
       "        vertical-align: middle;\n",
       "    }\n",
       "\n",
       "    .dataframe tbody tr th {\n",
       "        vertical-align: top;\n",
       "    }\n",
       "\n",
       "    .dataframe thead th {\n",
       "        text-align: right;\n",
       "    }\n",
       "</style>\n",
       "<table border=\"1\" class=\"dataframe\">\n",
       "  <thead>\n",
       "    <tr style=\"text-align: right;\">\n",
       "      <th></th>\n",
       "      <th>Unnamed: 0</th>\n",
       "      <th>Unnamed: 0.1</th>\n",
       "      <th>Description</th>\n",
       "      <th>Assignment_Group</th>\n",
       "      <th>Translated_Desc</th>\n",
       "      <th>Cleansed_Desc</th>\n",
       "    </tr>\n",
       "  </thead>\n",
       "  <tbody>\n",
       "    <tr>\n",
       "      <th>0</th>\n",
       "      <td>0</td>\n",
       "      <td>0</td>\n",
       "      <td>login issue -verified user details.(employee# ...</td>\n",
       "      <td>GRP_0</td>\n",
       "      <td>login issue -verified user details.(employee# ...</td>\n",
       "      <td>login issue verified user detail employee mana...</td>\n",
       "    </tr>\n",
       "    <tr>\n",
       "      <th>1</th>\n",
       "      <td>1</td>\n",
       "      <td>1</td>\n",
       "      <td>outlook \\r\\n\\r\\nreceived from: hmjdrvpb.komuay...</td>\n",
       "      <td>GRP_0</td>\n",
       "      <td>outlook \\r\\n\\r\\nreceived from: hmjdrvpb.komuay...</td>\n",
       "      <td>outlook hmjdrvpb komuaywn team meeting skype m...</td>\n",
       "    </tr>\n",
       "    <tr>\n",
       "      <th>2</th>\n",
       "      <td>2</td>\n",
       "      <td>2</td>\n",
       "      <td>cant log in to vpn \\r\\n\\r\\nreceived from: eylq...</td>\n",
       "      <td>GRP_0</td>\n",
       "      <td>cant log in to vpn \\r\\n\\r\\nreceived from: eylq...</td>\n",
       "      <td>cant log vpn eylqgodm ybqkwiam hi not log vpn ...</td>\n",
       "    </tr>\n",
       "    <tr>\n",
       "      <th>3</th>\n",
       "      <td>3</td>\n",
       "      <td>3</td>\n",
       "      <td>unable to access hr_tool page unable to access...</td>\n",
       "      <td>GRP_0</td>\n",
       "      <td>unable to access hr_tool page unable to access...</td>\n",
       "      <td>unable access hr tool page unable access hr to...</td>\n",
       "    </tr>\n",
       "    <tr>\n",
       "      <th>4</th>\n",
       "      <td>4</td>\n",
       "      <td>4</td>\n",
       "      <td>skype error  skype error</td>\n",
       "      <td>GRP_0</td>\n",
       "      <td>skype error  skype error</td>\n",
       "      <td>skype error skype error</td>\n",
       "    </tr>\n",
       "  </tbody>\n",
       "</table>\n",
       "</div>"
      ],
      "text/plain": [
       "   Unnamed: 0  ...                                      Cleansed_Desc\n",
       "0           0  ...  login issue verified user detail employee mana...\n",
       "1           1  ...  outlook hmjdrvpb komuaywn team meeting skype m...\n",
       "2           2  ...  cant log vpn eylqgodm ybqkwiam hi not log vpn ...\n",
       "3           3  ...  unable access hr tool page unable access hr to...\n",
       "4           4  ...                            skype error skype error\n",
       "\n",
       "[5 rows x 6 columns]"
      ]
     },
     "execution_count": 5,
     "metadata": {
      "tags": []
     },
     "output_type": "execute_result"
    }
   ],
   "source": [
    "inct_df.head()"
   ]
  },
  {
   "cell_type": "code",
   "execution_count": null,
   "metadata": {
    "colab": {},
    "colab_type": "code",
    "id": "BGlU-7NU4Xgp"
   },
   "outputs": [],
   "source": [
    "cols=['Unnamed: 0','Unnamed: 0.1','Description','Translated_Desc']\n",
    "inct_df.drop(columns=cols,inplace=True)"
   ]
  },
  {
   "cell_type": "code",
   "execution_count": null,
   "metadata": {
    "colab": {
     "base_uri": "https://localhost:8080/",
     "height": 221
    },
    "colab_type": "code",
    "executionInfo": {
     "elapsed": 834,
     "status": "ok",
     "timestamp": 1597248891612,
     "user": {
      "displayName": "Vishnu Prasad",
      "photoUrl": "",
      "userId": "08035500217640603750"
     },
     "user_tz": -330
    },
    "id": "6byNCOG06bUH",
    "outputId": "50beeba3-85dd-4b40-f105-b8abd36a5a53"
   },
   "outputs": [
    {
     "data": {
      "text/plain": [
       "GRP_0     3206\n",
       "GRP_8      645\n",
       "GRP_17     295\n",
       "GRP_24     285\n",
       "GRP_12     255\n",
       "          ... \n",
       "GRP_61       1\n",
       "GRP_73       1\n",
       "GRP_70       1\n",
       "GRP_64       1\n",
       "GRP_67       1\n",
       "Name: Assignment_Group, Length: 74, dtype: int64"
      ]
     },
     "execution_count": 7,
     "metadata": {
      "tags": []
     },
     "output_type": "execute_result"
    }
   ],
   "source": [
    "# Value counts\n",
    "inct_df.Assignment_Group.value_counts()"
   ]
  },
  {
   "cell_type": "markdown",
   "metadata": {
    "colab_type": "text",
    "id": "wQKGc4Gt6x5U"
   },
   "source": [
    "As we see above there are 74 groups. We are applying BERT on the raw data"
   ]
  },
  {
   "cell_type": "code",
   "execution_count": null,
   "metadata": {
    "colab": {
     "base_uri": "https://localhost:8080/",
     "height": 411
    },
    "colab_type": "code",
    "executionInfo": {
     "elapsed": 5738,
     "status": "ok",
     "timestamp": 1597248899147,
     "user": {
      "displayName": "Vishnu Prasad",
      "photoUrl": "",
      "userId": "08035500217640603750"
     },
     "user_tz": -330
    },
    "id": "HS8G9j3a4P62",
    "outputId": "678255f9-0398-49ed-9199-8d979e2dfd8d"
   },
   "outputs": [
    {
     "name": "stdout",
     "output_type": "stream",
     "text": [
      "Collecting pytorch_pretrained_bert\n",
      "\u001b[?25l  Downloading https://files.pythonhosted.org/packages/d7/e0/c08d5553b89973d9a240605b9c12404bcf8227590de62bae27acbcfe076b/pytorch_pretrained_bert-0.6.2-py3-none-any.whl (123kB)\n",
      "\r",
      "\u001b[K     |██▋                             | 10kB 14.8MB/s eta 0:00:01\r",
      "\u001b[K     |█████▎                          | 20kB 3.0MB/s eta 0:00:01\r",
      "\u001b[K     |████████                        | 30kB 3.9MB/s eta 0:00:01\r",
      "\u001b[K     |██████████▋                     | 40kB 4.2MB/s eta 0:00:01\r",
      "\u001b[K     |█████████████▎                  | 51kB 3.5MB/s eta 0:00:01\r",
      "\u001b[K     |███████████████▉                | 61kB 4.1MB/s eta 0:00:01\r",
      "\u001b[K     |██████████████████▌             | 71kB 4.6MB/s eta 0:00:01\r",
      "\u001b[K     |█████████████████████▏          | 81kB 4.9MB/s eta 0:00:01\r",
      "\u001b[K     |███████████████████████▉        | 92kB 5.3MB/s eta 0:00:01\r",
      "\u001b[K     |██████████████████████████▌     | 102kB 4.6MB/s eta 0:00:01\r",
      "\u001b[K     |█████████████████████████████▏  | 112kB 4.6MB/s eta 0:00:01\r",
      "\u001b[K     |███████████████████████████████▊| 122kB 4.6MB/s eta 0:00:01\r",
      "\u001b[K     |████████████████████████████████| 133kB 4.6MB/s \n",
      "\u001b[?25hRequirement already satisfied: tqdm in /usr/local/lib/python3.6/dist-packages (from pytorch_pretrained_bert) (4.41.1)\n",
      "Requirement already satisfied: requests in /usr/local/lib/python3.6/dist-packages (from pytorch_pretrained_bert) (2.23.0)\n",
      "Requirement already satisfied: numpy in /usr/local/lib/python3.6/dist-packages (from pytorch_pretrained_bert) (1.18.5)\n",
      "Requirement already satisfied: boto3 in /usr/local/lib/python3.6/dist-packages (from pytorch_pretrained_bert) (1.14.37)\n",
      "Requirement already satisfied: regex in /usr/local/lib/python3.6/dist-packages (from pytorch_pretrained_bert) (2019.12.20)\n",
      "Requirement already satisfied: torch>=0.4.1 in /usr/local/lib/python3.6/dist-packages (from pytorch_pretrained_bert) (1.6.0+cu101)\n",
      "Requirement already satisfied: urllib3!=1.25.0,!=1.25.1,<1.26,>=1.21.1 in /usr/local/lib/python3.6/dist-packages (from requests->pytorch_pretrained_bert) (1.24.3)\n",
      "Requirement already satisfied: certifi>=2017.4.17 in /usr/local/lib/python3.6/dist-packages (from requests->pytorch_pretrained_bert) (2020.6.20)\n",
      "Requirement already satisfied: idna<3,>=2.5 in /usr/local/lib/python3.6/dist-packages (from requests->pytorch_pretrained_bert) (2.10)\n",
      "Requirement already satisfied: chardet<4,>=3.0.2 in /usr/local/lib/python3.6/dist-packages (from requests->pytorch_pretrained_bert) (3.0.4)\n",
      "Requirement already satisfied: s3transfer<0.4.0,>=0.3.0 in /usr/local/lib/python3.6/dist-packages (from boto3->pytorch_pretrained_bert) (0.3.3)\n",
      "Requirement already satisfied: jmespath<1.0.0,>=0.7.1 in /usr/local/lib/python3.6/dist-packages (from boto3->pytorch_pretrained_bert) (0.10.0)\n",
      "Requirement already satisfied: botocore<1.18.0,>=1.17.37 in /usr/local/lib/python3.6/dist-packages (from boto3->pytorch_pretrained_bert) (1.17.37)\n",
      "Requirement already satisfied: future in /usr/local/lib/python3.6/dist-packages (from torch>=0.4.1->pytorch_pretrained_bert) (0.16.0)\n",
      "Requirement already satisfied: python-dateutil<3.0.0,>=2.1 in /usr/local/lib/python3.6/dist-packages (from botocore<1.18.0,>=1.17.37->boto3->pytorch_pretrained_bert) (2.8.1)\n",
      "Requirement already satisfied: docutils<0.16,>=0.10 in /usr/local/lib/python3.6/dist-packages (from botocore<1.18.0,>=1.17.37->boto3->pytorch_pretrained_bert) (0.15.2)\n",
      "Requirement already satisfied: six>=1.5 in /usr/local/lib/python3.6/dist-packages (from python-dateutil<3.0.0,>=2.1->botocore<1.18.0,>=1.17.37->boto3->pytorch_pretrained_bert) (1.15.0)\n",
      "Installing collected packages: pytorch-pretrained-bert\n",
      "Successfully installed pytorch-pretrained-bert-0.6.2\n"
     ]
    }
   ],
   "source": [
    "!pip install pytorch_pretrained_bert"
   ]
  },
  {
   "cell_type": "code",
   "execution_count": null,
   "metadata": {
    "colab": {},
    "colab_type": "code",
    "id": "g_Ef4gsD4Qoo"
   },
   "outputs": [],
   "source": [
    "from pytorch_pretrained_bert import BertTokenizer\n",
    "from pytorch_pretrained_bert.modeling import BertModel"
   ]
  },
  {
   "cell_type": "code",
   "execution_count": null,
   "metadata": {
    "colab": {
     "base_uri": "https://localhost:8080/",
     "height": 34
    },
    "colab_type": "code",
    "executionInfo": {
     "elapsed": 5130,
     "status": "ok",
     "timestamp": 1597248910995,
     "user": {
      "displayName": "Vishnu Prasad",
      "photoUrl": "",
      "userId": "08035500217640603750"
     },
     "user_tz": -330
    },
    "id": "wg_f_1e342qr",
    "outputId": "670fc1fd-ab3b-446c-cfd4-6f583f6d2847"
   },
   "outputs": [
    {
     "name": "stderr",
     "output_type": "stream",
     "text": [
      "100%|██████████| 231508/231508 [00:00<00:00, 1200135.13B/s]\n"
     ]
    }
   ],
   "source": [
    "# Initialising the BERTTokenizer using transfer learning and creating tokens\n",
    "\n",
    "tokenizer2 = BertTokenizer.from_pretrained('bert-base-uncased')\n",
    "tokenized_desc1 = [tokenizer2.tokenize(desc) for desc in inct_df['Cleansed_Desc'].values]"
   ]
  },
  {
   "cell_type": "code",
   "execution_count": null,
   "metadata": {
    "colab": {
     "base_uri": "https://localhost:8080/",
     "height": 51
    },
    "colab_type": "code",
    "executionInfo": {
     "elapsed": 20586,
     "status": "ok",
     "timestamp": 1597248934303,
     "user": {
      "displayName": "Vishnu Prasad",
      "photoUrl": "",
      "userId": "08035500217640603750"
     },
     "user_tz": -330
    },
    "id": "RuDfkWDe5HAZ",
    "outputId": "2f2aea6b-3ff3-40d6-a77a-49e05be4d908"
   },
   "outputs": [
    {
     "name": "stderr",
     "output_type": "stream",
     "text": [
      "100%|██████████| 407873900/407873900 [00:12<00:00, 33465333.20B/s]\n"
     ]
    },
    {
     "name": "stdout",
     "output_type": "stream",
     "text": [
      "Loaded BERT Embedding Matrix of size:  (30522, 768)\n"
     ]
    }
   ],
   "source": [
    "# Get the BERT word embeddings from the pre-trained model\n",
    "def get_bert_embed_matrix():\n",
    "    bert = BertModel.from_pretrained('bert-base-uncased')\n",
    "    bert_embeddings = list(bert.children())[0]\n",
    "    bert_word_embeddings = list(bert_embeddings.children())[0]\n",
    "    mat = bert_word_embeddings.weight.data.numpy()\n",
    "    return mat\n",
    "\n",
    "bert_embedding_matrix = get_bert_embed_matrix()\n",
    "print('Loaded BERT Embedding Matrix of size: ', bert_embedding_matrix.shape)"
   ]
  },
  {
   "cell_type": "code",
   "execution_count": null,
   "metadata": {
    "colab": {
     "base_uri": "https://localhost:8080/",
     "height": 34
    },
    "colab_type": "code",
    "executionInfo": {
     "elapsed": 1082,
     "status": "ok",
     "timestamp": 1597248935455,
     "user": {
      "displayName": "Vishnu Prasad",
      "photoUrl": "",
      "userId": "08035500217640603750"
     },
     "user_tz": -330
    },
    "id": "UkfBZcaH5pTO",
    "outputId": "85e0fd80-0ccc-49f8-e2f2-b9c02e95964c"
   },
   "outputs": [
    {
     "data": {
      "text/plain": [
       "(30522, 768)"
      ]
     },
     "execution_count": 12,
     "metadata": {
      "tags": []
     },
     "output_type": "execute_result"
    }
   ],
   "source": [
    "# Converting BERT Embedding matrix as a Data Frame\n",
    "bert_embedding_matrix = pd.DataFrame(bert_embedding_matrix)\n",
    "bert_embedding_matrix.shape"
   ]
  },
  {
   "cell_type": "code",
   "execution_count": null,
   "metadata": {
    "colab": {
     "base_uri": "https://localhost:8080/",
     "height": 204
    },
    "colab_type": "code",
    "executionInfo": {
     "elapsed": 759,
     "status": "ok",
     "timestamp": 1597248939718,
     "user": {
      "displayName": "Vishnu Prasad",
      "photoUrl": "",
      "userId": "08035500217640603750"
     },
     "user_tz": -330
    },
    "id": "gNaRWPvn53Iq",
    "outputId": "e300517e-abf0-4e0a-9d57-27e1365a47fc"
   },
   "outputs": [
    {
     "data": {
      "text/html": [
       "<div>\n",
       "<style scoped>\n",
       "    .dataframe tbody tr th:only-of-type {\n",
       "        vertical-align: middle;\n",
       "    }\n",
       "\n",
       "    .dataframe tbody tr th {\n",
       "        vertical-align: top;\n",
       "    }\n",
       "\n",
       "    .dataframe thead th {\n",
       "        text-align: right;\n",
       "    }\n",
       "</style>\n",
       "<table border=\"1\" class=\"dataframe\">\n",
       "  <thead>\n",
       "    <tr style=\"text-align: right;\">\n",
       "      <th></th>\n",
       "      <th>Assignment_Group</th>\n",
       "      <th>Cleansed_Desc</th>\n",
       "      <th>Tokenized_Desc</th>\n",
       "    </tr>\n",
       "  </thead>\n",
       "  <tbody>\n",
       "    <tr>\n",
       "      <th>0</th>\n",
       "      <td>GRP_0</td>\n",
       "      <td>login issue verified user detail employee mana...</td>\n",
       "      <td>[log, ##in, issue, verified, user, detail, emp...</td>\n",
       "    </tr>\n",
       "    <tr>\n",
       "      <th>1</th>\n",
       "      <td>GRP_0</td>\n",
       "      <td>outlook hmjdrvpb komuaywn team meeting skype m...</td>\n",
       "      <td>[outlook, hm, ##j, ##dr, ##v, ##p, ##b, ko, ##...</td>\n",
       "    </tr>\n",
       "    <tr>\n",
       "      <th>2</th>\n",
       "      <td>GRP_0</td>\n",
       "      <td>cant log vpn eylqgodm ybqkwiam hi not log vpn ...</td>\n",
       "      <td>[can, ##t, log, vp, ##n, e, ##yl, ##q, ##go, #...</td>\n",
       "    </tr>\n",
       "    <tr>\n",
       "      <th>3</th>\n",
       "      <td>GRP_0</td>\n",
       "      <td>unable access hr tool page unable access hr to...</td>\n",
       "      <td>[unable, access, hr, tool, page, unable, acces...</td>\n",
       "    </tr>\n",
       "    <tr>\n",
       "      <th>4</th>\n",
       "      <td>GRP_0</td>\n",
       "      <td>skype error skype error</td>\n",
       "      <td>[sky, ##pe, error, sky, ##pe, error]</td>\n",
       "    </tr>\n",
       "  </tbody>\n",
       "</table>\n",
       "</div>"
      ],
      "text/plain": [
       "  Assignment_Group  ...                                     Tokenized_Desc\n",
       "0            GRP_0  ...  [log, ##in, issue, verified, user, detail, emp...\n",
       "1            GRP_0  ...  [outlook, hm, ##j, ##dr, ##v, ##p, ##b, ko, ##...\n",
       "2            GRP_0  ...  [can, ##t, log, vp, ##n, e, ##yl, ##q, ##go, #...\n",
       "3            GRP_0  ...  [unable, access, hr, tool, page, unable, acces...\n",
       "4            GRP_0  ...               [sky, ##pe, error, sky, ##pe, error]\n",
       "\n",
       "[5 rows x 3 columns]"
      ]
     },
     "execution_count": 13,
     "metadata": {
      "tags": []
     },
     "output_type": "execute_result"
    }
   ],
   "source": [
    "# Creating a copy of the cleansed dataset\n",
    "deep_bert_df1 = inct_df.copy()\n",
    "# Adding list of created tokens to the dataset\n",
    "deep_bert_df1['Tokenized_Desc'] = pd.Series(tokenized_desc1)\n",
    "deep_bert_df1.head()"
   ]
  },
  {
   "cell_type": "code",
   "execution_count": null,
   "metadata": {
    "colab": {},
    "colab_type": "code",
    "id": "jt38Zayr56us"
   },
   "outputs": [],
   "source": [
    "# Creating individual tokens so as to feed to the models\n",
    "tokenized_desc1 = []\n",
    "for i in range(deep_bert_df1.shape[0]):\n",
    "  tokens = \",\".join(str(token) for token in deep_bert_df1['Tokenized_Desc'][i])\n",
    "  tokenized_desc1.append(tokens)"
   ]
  },
  {
   "cell_type": "code",
   "execution_count": null,
   "metadata": {
    "colab": {
     "base_uri": "https://localhost:8080/",
     "height": 204
    },
    "colab_type": "code",
    "executionInfo": {
     "elapsed": 619,
     "status": "ok",
     "timestamp": 1597248942720,
     "user": {
      "displayName": "Vishnu Prasad",
      "photoUrl": "",
      "userId": "08035500217640603750"
     },
     "user_tz": -330
    },
    "id": "3laVNYET6Nxw",
    "outputId": "2a917b7b-6865-4768-bdcc-f1066adf9708"
   },
   "outputs": [
    {
     "data": {
      "text/html": [
       "<div>\n",
       "<style scoped>\n",
       "    .dataframe tbody tr th:only-of-type {\n",
       "        vertical-align: middle;\n",
       "    }\n",
       "\n",
       "    .dataframe tbody tr th {\n",
       "        vertical-align: top;\n",
       "    }\n",
       "\n",
       "    .dataframe thead th {\n",
       "        text-align: right;\n",
       "    }\n",
       "</style>\n",
       "<table border=\"1\" class=\"dataframe\">\n",
       "  <thead>\n",
       "    <tr style=\"text-align: right;\">\n",
       "      <th></th>\n",
       "      <th>Assignment_Group</th>\n",
       "      <th>Cleansed_Desc</th>\n",
       "      <th>Tokenized_Desc</th>\n",
       "      <th>Tokens</th>\n",
       "    </tr>\n",
       "  </thead>\n",
       "  <tbody>\n",
       "    <tr>\n",
       "      <th>0</th>\n",
       "      <td>GRP_0</td>\n",
       "      <td>login issue verified user detail employee mana...</td>\n",
       "      <td>[log, ##in, issue, verified, user, detail, emp...</td>\n",
       "      <td>log,##in,issue,verified,user,detail,employee,m...</td>\n",
       "    </tr>\n",
       "    <tr>\n",
       "      <th>1</th>\n",
       "      <td>GRP_0</td>\n",
       "      <td>outlook hmjdrvpb komuaywn team meeting skype m...</td>\n",
       "      <td>[outlook, hm, ##j, ##dr, ##v, ##p, ##b, ko, ##...</td>\n",
       "      <td>outlook,hm,##j,##dr,##v,##p,##b,ko,##mu,##ay,#...</td>\n",
       "    </tr>\n",
       "    <tr>\n",
       "      <th>2</th>\n",
       "      <td>GRP_0</td>\n",
       "      <td>cant log vpn eylqgodm ybqkwiam hi not log vpn ...</td>\n",
       "      <td>[can, ##t, log, vp, ##n, e, ##yl, ##q, ##go, #...</td>\n",
       "      <td>can,##t,log,vp,##n,e,##yl,##q,##go,##dm,y,##b,...</td>\n",
       "    </tr>\n",
       "    <tr>\n",
       "      <th>3</th>\n",
       "      <td>GRP_0</td>\n",
       "      <td>unable access hr tool page unable access hr to...</td>\n",
       "      <td>[unable, access, hr, tool, page, unable, acces...</td>\n",
       "      <td>unable,access,hr,tool,page,unable,access,hr,to...</td>\n",
       "    </tr>\n",
       "    <tr>\n",
       "      <th>4</th>\n",
       "      <td>GRP_0</td>\n",
       "      <td>skype error skype error</td>\n",
       "      <td>[sky, ##pe, error, sky, ##pe, error]</td>\n",
       "      <td>sky,##pe,error,sky,##pe,error</td>\n",
       "    </tr>\n",
       "  </tbody>\n",
       "</table>\n",
       "</div>"
      ],
      "text/plain": [
       "  Assignment_Group  ...                                             Tokens\n",
       "0            GRP_0  ...  log,##in,issue,verified,user,detail,employee,m...\n",
       "1            GRP_0  ...  outlook,hm,##j,##dr,##v,##p,##b,ko,##mu,##ay,#...\n",
       "2            GRP_0  ...  can,##t,log,vp,##n,e,##yl,##q,##go,##dm,y,##b,...\n",
       "3            GRP_0  ...  unable,access,hr,tool,page,unable,access,hr,to...\n",
       "4            GRP_0  ...                      sky,##pe,error,sky,##pe,error\n",
       "\n",
       "[5 rows x 4 columns]"
      ]
     },
     "execution_count": 15,
     "metadata": {
      "tags": []
     },
     "output_type": "execute_result"
    }
   ],
   "source": [
    "# Adding individually created tokens to the dataset\n",
    "deep_bert_df1['Tokens'] = pd.Series(tokenized_desc1)\n",
    "deep_bert_df1.head()"
   ]
  },
  {
   "cell_type": "markdown",
   "metadata": {
    "colab_type": "text",
    "id": "y8aDOr2m7FhN"
   },
   "source": [
    "Now we have two columns for tokens - one as a list and the other as individual tokens. Let's use the list of tokens to find the unique tokens in the dataset, and the individual tokens to feed to the model"
   ]
  },
  {
   "cell_type": "code",
   "execution_count": null,
   "metadata": {
    "colab": {
     "base_uri": "https://localhost:8080/",
     "height": 34
    },
    "colab_type": "code",
    "executionInfo": {
     "elapsed": 1148,
     "status": "ok",
     "timestamp": 1597248946249,
     "user": {
      "displayName": "Vishnu Prasad",
      "photoUrl": "",
      "userId": "08035500217640603750"
     },
     "user_tz": -330
    },
    "id": "1ugjwCDo6XH0",
    "outputId": "ae6d55bc-47c6-4698-8942-21333b77a977"
   },
   "outputs": [
    {
     "name": "stdout",
     "output_type": "stream",
     "text": [
      "Number of unique tokens in the dataset :  7016\n"
     ]
    }
   ],
   "source": [
    "desc_set = set()\n",
    "deep_bert_df1['Tokenized_Desc'].apply(desc_set.update)\n",
    "print('Number of unique tokens in the dataset : ', len(desc_set))"
   ]
  },
  {
   "cell_type": "code",
   "execution_count": null,
   "metadata": {
    "colab": {},
    "colab_type": "code",
    "id": "Kowa3Eb_7O45"
   },
   "outputs": [],
   "source": [
    "# Usinf the above unique number of tokens let's fix the maximum vocabulary words as 8000\n",
    "from tensorflow.keras.preprocessing.text import Tokenizer\n",
    "t = Tokenizer(num_words=8000)\n",
    "t.fit_on_texts(deep_bert_df1['Tokens'])"
   ]
  },
  {
   "cell_type": "code",
   "execution_count": null,
   "metadata": {
    "colab": {},
    "colab_type": "code",
    "id": "YXXjbYf08A9E"
   },
   "outputs": [],
   "source": [
    "# Defining x and y for the model\n",
    "from keras.preprocessing.sequence import pad_sequences\n",
    "x = t.texts_to_sequences(deep_bert_df1['Tokens'])\n",
    "x = pad_sequences(x, padding='post', maxlen = 200)\n",
    "y = np.asarray(pd.get_dummies(deep_bert_df1['Assignment_Group']), dtype=np.int8)"
   ]
  },
  {
   "cell_type": "code",
   "execution_count": null,
   "metadata": {
    "colab": {
     "base_uri": "https://localhost:8080/",
     "height": 51
    },
    "colab_type": "code",
    "executionInfo": {
     "elapsed": 832,
     "status": "ok",
     "timestamp": 1597249041308,
     "user": {
      "displayName": "Vishnu Prasad",
      "photoUrl": "",
      "userId": "08035500217640603750"
     },
     "user_tz": -330
    },
    "id": "S85do4yf8SZF",
    "outputId": "86d21600-ca28-486d-f3e4-1f352d789015"
   },
   "outputs": [
    {
     "name": "stdout",
     "output_type": "stream",
     "text": [
      "(6323, 200)\n",
      "(1581, 200)\n"
     ]
    }
   ],
   "source": [
    "#Train test split\n",
    "from sklearn.model_selection import train_test_split\n",
    "x_train, x_test, y_train, y_test = train_test_split(x, y, test_size=0.2, random_state=2020)\n",
    "print(x_train.shape)\n",
    "print(x_test.shape)"
   ]
  },
  {
   "cell_type": "markdown",
   "metadata": {
    "colab_type": "text",
    "id": "cRJO9WKG9y3_"
   },
   "source": [
    "Model 16 : LSTM with BERT Embedding on Raw data"
   ]
  },
  {
   "cell_type": "code",
   "execution_count": null,
   "metadata": {
    "colab": {},
    "colab_type": "code",
    "id": "B9xKs_d9eThn"
   },
   "outputs": [],
   "source": [
    "from tensorflow.keras.preprocessing.text import Tokenizer\n",
    "from tensorflow.keras.preprocessing.sequence import pad_sequences\n",
    "from tensorflow.keras.layers import Dense, LSTM, Embedding, Dropout, Activation, Flatten, Bidirectional\n",
    "from tensorflow.keras.models import Sequential\n",
    "from tensorflow.keras.callbacks import ModelCheckpoint, EarlyStopping, ReduceLROnPlateau"
   ]
  },
  {
   "cell_type": "code",
   "execution_count": null,
   "metadata": {
    "colab": {
     "base_uri": "https://localhost:8080/",
     "height": 255
    },
    "colab_type": "code",
    "executionInfo": {
     "elapsed": 1312,
     "status": "ok",
     "timestamp": 1597249280716,
     "user": {
      "displayName": "Vishnu Prasad",
      "photoUrl": "",
      "userId": "08035500217640603750"
     },
     "user_tz": -330
    },
    "id": "Za14SWyy8jT7",
    "outputId": "bd958079-7f57-4452-80db-afba439bff61"
   },
   "outputs": [
    {
     "name": "stdout",
     "output_type": "stream",
     "text": [
      "Model: \"sequential_1\"\n",
      "_________________________________________________________________\n",
      "Layer (type)                 Output Shape              Param #   \n",
      "=================================================================\n",
      "embedding (Embedding)        (None, 200, 768)          23440896  \n",
      "_________________________________________________________________\n",
      "lstm (LSTM)                  (None, 128)               459264    \n",
      "_________________________________________________________________\n",
      "dense (Dense)                (None, 74)                9546      \n",
      "=================================================================\n",
      "Total params: 23,909,706\n",
      "Trainable params: 23,909,706\n",
      "Non-trainable params: 0\n",
      "_________________________________________________________________\n"
     ]
    }
   ],
   "source": [
    "# Model building, compiling and summary\n",
    "import tensorflow.compat.v1 as tf\n",
    "from absl import logging\n",
    "\n",
    "vocab_size=bert_embedding_matrix.shape[0] # 30522 from transfer learning\n",
    "embedding_size=bert_embedding_matrix.shape[1] #768 from transfer learning\n",
    "max_len=200 # Based on the mean length of sentences in the dataset\n",
    "\n",
    "# Remove the warning messages\n",
    "tf.logging.set_verbosity(tf.logging.ERROR)\n",
    "\n",
    "model_bert = Sequential()\n",
    "\n",
    "e = Embedding(vocab_size, embedding_size, input_length=max_len, weights=[bert_embedding_matrix],trainable=True)\n",
    "model_bert.add(e)\n",
    "model_bert.add(LSTM(128))\n",
    "model_bert.add(Dense(74, activation = 'softmax'))\n",
    "\n",
    "model_bert.compile(optimizer='Adam', loss=['categorical_crossentropy'], metrics=['accuracy'])\n",
    "\n",
    "model_bert.summary()"
   ]
  },
  {
   "cell_type": "code",
   "execution_count": null,
   "metadata": {
    "colab": {
     "base_uri": "https://localhost:8080/",
     "height": 459
    },
    "colab_type": "code",
    "executionInfo": {
     "elapsed": 376485,
     "status": "ok",
     "timestamp": 1597249672131,
     "user": {
      "displayName": "Vishnu Prasad",
      "photoUrl": "",
      "userId": "08035500217640603750"
     },
     "user_tz": -330
    },
    "id": "Zu7DOGN88w-G",
    "outputId": "76454c00-4d8c-4591-cff7-0753be33f029"
   },
   "outputs": [
    {
     "name": "stdout",
     "output_type": "stream",
     "text": [
      "Epoch 1/10\n",
      "159/159 [==============================] - 37s 233ms/step - loss: 2.8300 - accuracy: 0.3968 - val_loss: 2.7097 - val_accuracy: 0.4213\n",
      "Epoch 2/10\n",
      "159/159 [==============================] - 37s 230ms/step - loss: 2.7608 - accuracy: 0.3996 - val_loss: 2.7076 - val_accuracy: 0.4213\n",
      "Epoch 3/10\n",
      "159/159 [==============================] - 37s 230ms/step - loss: 2.7546 - accuracy: 0.4009 - val_loss: 2.7017 - val_accuracy: 0.4237\n",
      "Epoch 4/10\n",
      "159/159 [==============================] - 36s 229ms/step - loss: 2.7489 - accuracy: 0.4027 - val_loss: 2.7018 - val_accuracy: 0.4237\n",
      "Epoch 5/10\n",
      "159/159 [==============================] - ETA: 0s - loss: 2.7430 - accuracy: 0.4027\n",
      "Epoch 00005: ReduceLROnPlateau reducing learning rate to 0.0005000000237487257.\n",
      "159/159 [==============================] - 37s 230ms/step - loss: 2.7430 - accuracy: 0.4027 - val_loss: 2.7144 - val_accuracy: 0.4237\n",
      "Epoch 6/10\n",
      "159/159 [==============================] - 36s 229ms/step - loss: 2.7332 - accuracy: 0.4027 - val_loss: 2.6991 - val_accuracy: 0.4237\n",
      "Epoch 7/10\n",
      "159/159 [==============================] - ETA: 0s - loss: 2.7268 - accuracy: 0.4033\n",
      "Epoch 00007: ReduceLROnPlateau reducing learning rate to 0.0002500000118743628.\n",
      "159/159 [==============================] - 36s 230ms/step - loss: 2.7268 - accuracy: 0.4033 - val_loss: 2.6994 - val_accuracy: 0.4237\n",
      "Epoch 8/10\n",
      "159/159 [==============================] - 36s 228ms/step - loss: 2.7213 - accuracy: 0.4047 - val_loss: 2.7019 - val_accuracy: 0.4237\n",
      "Epoch 9/10\n",
      "159/159 [==============================] - ETA: 0s - loss: 2.7187 - accuracy: 0.4061\n",
      "Epoch 00009: ReduceLROnPlateau reducing learning rate to 0.0001250000059371814.\n",
      "159/159 [==============================] - 36s 229ms/step - loss: 2.7187 - accuracy: 0.4061 - val_loss: 2.6961 - val_accuracy: 0.4237\n",
      "Epoch 10/10\n",
      "159/159 [==============================] - 36s 229ms/step - loss: 2.7134 - accuracy: 0.4069 - val_loss: 2.6964 - val_accuracy: 0.4237\n"
     ]
    }
   ],
   "source": [
    "# Fit the model\n",
    "stop = EarlyStopping(monitor=\"val_loss\", patience=5, mode=\"min\")\n",
    "reduce_lr = ReduceLROnPlateau(monitor=\"val_accuracy\", factor=0.5, patience=2, min_lr=1e-7, verbose=1, mode=\"max\")\n",
    "model_bert_history = model_bert.fit(x_train,y_train, epochs=10, validation_split=0.2, callbacks=[stop, reduce_lr])"
   ]
  },
  {
   "cell_type": "code",
   "execution_count": null,
   "metadata": {
    "colab": {
     "base_uri": "https://localhost:8080/",
     "height": 68
    },
    "colab_type": "code",
    "executionInfo": {
     "elapsed": 1213,
     "status": "ok",
     "timestamp": 1597249676918,
     "user": {
      "displayName": "Vishnu Prasad",
      "photoUrl": "",
      "userId": "08035500217640603750"
     },
     "user_tz": -330
    },
    "id": "rVVD1nD3-D36",
    "outputId": "b526fcb6-c5e7-493c-da89-245b8d6c7040"
   },
   "outputs": [
    {
     "name": "stdout",
     "output_type": "stream",
     "text": [
      "Validation accuracy : 42.37\n",
      "50/50 [==============================] - 1s 11ms/step - loss: 2.7379 - accuracy: 0.4137\n",
      "Test accuracy : 41.37\n"
     ]
    }
   ],
   "source": [
    "val_acc_bert = model_bert_history.history['val_accuracy']\n",
    "val_acc_bert = np.round(np.max(val_acc_bert) * 100, 2)\n",
    "print('Validation accuracy : %0.2f' %(val_acc_bert))\n",
    "test_acc_bert = model_bert.evaluate(x_test,y_test)\n",
    "test_acc_bert = np.round(test_acc_bert[1] * 100, 2)\n",
    "print('Test accuracy : %0.2f' %(test_acc_bert))"
   ]
  },
  {
   "cell_type": "code",
   "execution_count": null,
   "metadata": {
    "colab": {
     "base_uri": "https://localhost:8080/",
     "height": 286
    },
    "colab_type": "code",
    "executionInfo": {
     "elapsed": 1319,
     "status": "ok",
     "timestamp": 1597249684546,
     "user": {
      "displayName": "Vishnu Prasad",
      "photoUrl": "",
      "userId": "08035500217640603750"
     },
     "user_tz": -330
    },
    "id": "o5W0CwftQ413",
    "outputId": "099dcd51-bf4f-403b-cdbe-6b34f77c8ed1"
   },
   "outputs": [
    {
     "data": {
      "text/plain": [
       "<matplotlib.legend.Legend at 0x7fc3522ce2e8>"
      ]
     },
     "execution_count": 31,
     "metadata": {
      "tags": []
     },
     "output_type": "execute_result"
    },
    {
     "data": {
      "image/png": "[encoded data removed]",
      "text/plain": [
       "<Figure size 432x288 with 1 Axes>"
      ]
     },
     "metadata": {
      "needs_background": "light",
      "tags": []
     },
     "output_type": "display_data"
    }
   ],
   "source": [
    "#plotting epochs versus the accuracy for Training and Validation\n",
    "import matplotlib.pyplot as plt\n",
    "plt.plot(model_bert_history.epoch,model_bert_history.history['accuracy'],label='acc')\n",
    "plt.plot(model_bert_history.epoch,model_bert_history.history['val_accuracy'],label='val')\n",
    "plt.legend()"
   ]
  },
  {
   "cell_type": "code",
   "execution_count": null,
   "metadata": {
    "colab": {
     "base_uri": "https://localhost:8080/",
     "height": 282
    },
    "colab_type": "code",
    "executionInfo": {
     "elapsed": 911,
     "status": "ok",
     "timestamp": 1597249693097,
     "user": {
      "displayName": "Vishnu Prasad",
      "photoUrl": "",
      "userId": "08035500217640603750"
     },
     "user_tz": -330
    },
    "id": "RDzJpg9IRB2Y",
    "outputId": "8a9a4af1-4f1a-42ce-ecc8-7ffbfbd69991"
   },
   "outputs": [
    {
     "data": {
      "text/plain": [
       "<matplotlib.legend.Legend at 0x7fc352054b38>"
      ]
     },
     "execution_count": 32,
     "metadata": {
      "tags": []
     },
     "output_type": "execute_result"
    },
    {
     "data": {
      "image/png": "[encoded data removed]",
      "text/plain": [
       "<Figure size 432x288 with 1 Axes>"
      ]
     },
     "metadata": {
      "needs_background": "light",
      "tags": []
     },
     "output_type": "display_data"
    }
   ],
   "source": [
    "#Plotting epochs versus the loss for Training and Validation\n",
    "plt.plot(model_bert_history.epoch,model_bert_history.history['loss'],label='acc')\n",
    "plt.plot(model_bert_history.epoch,model_bert_history.history['val_loss'],label='val')\n",
    "plt.legend()"
   ]
  },
  {
   "cell_type": "markdown",
   "metadata": {
    "colab_type": "text",
    "id": "S99b-c8FRDPU"
   },
   "source": [
    "Model 17 : Bi directional-LSTM with BERT Embedding on Raw data"
   ]
  },
  {
   "cell_type": "code",
   "execution_count": 51,
   "metadata": {
    "colab": {
     "base_uri": "https://localhost:8080/",
     "height": 255
    },
    "colab_type": "code",
    "executionInfo": {
     "elapsed": 1270,
     "status": "ok",
     "timestamp": 1597250888583,
     "user": {
      "displayName": "Vishnu Prasad",
      "photoUrl": "",
      "userId": "08035500217640603750"
     },
     "user_tz": -330
    },
    "id": "vVLsBYdSRMB2",
    "outputId": "86482834-ee58-4b77-e848-d0dce496edc4"
   },
   "outputs": [
    {
     "name": "stdout",
     "output_type": "stream",
     "text": [
      "Model: \"sequential_2\"\n",
      "_________________________________________________________________\n",
      "Layer (type)                 Output Shape              Param #   \n",
      "=================================================================\n",
      "embedding_1 (Embedding)      (None, 200, 768)          23440896  \n",
      "_________________________________________________________________\n",
      "bidirectional (Bidirectional (None, 200)               695200    \n",
      "_________________________________________________________________\n",
      "dense_1 (Dense)              (None, 74)                14874     \n",
      "=================================================================\n",
      "Total params: 24,150,970\n",
      "Trainable params: 24,150,970\n",
      "Non-trainable params: 0\n",
      "_________________________________________________________________\n"
     ]
    }
   ],
   "source": [
    "# Model building, compiling and summary\n",
    "\n",
    "vocab_size=bert_embedding_matrix.shape[0]\n",
    "embedding_size=bert_embedding_matrix.shape[1]\n",
    "max_len=200\n",
    "\n",
    "model_bert_blstm = Sequential()\n",
    "\n",
    "e = Embedding(vocab_size, embedding_size, input_length=max_len, weights=[bert_embedding_matrix],trainable=True)\n",
    "model_bert_blstm.add(e)\n",
    "model_bert_blstm.add(Bidirectional(LSTM(100),trainable=True))\n",
    "model_bert_blstm.add(Dense(74, activation = 'softmax'))\n",
    "\n",
    "model_bert_blstm.compile(optimizer='Adam', loss=['categorical_crossentropy'], metrics=['accuracy'])\n",
    "\n",
    "model_bert_blstm.summary()"
   ]
  },
  {
   "cell_type": "code",
   "execution_count": 52,
   "metadata": {
    "colab": {
     "base_uri": "https://localhost:8080/",
     "height": 323
    },
    "colab_type": "code",
    "executionInfo": {
     "elapsed": 320592,
     "status": "ok",
     "timestamp": 1597251221719,
     "user": {
      "displayName": "Vishnu Prasad",
      "photoUrl": "",
      "userId": "08035500217640603750"
     },
     "user_tz": -330
    },
    "id": "SqejsDLARW1h",
    "outputId": "cbe27882-006c-4a3d-e141-ec945e07f865"
   },
   "outputs": [
    {
     "name": "stdout",
     "output_type": "stream",
     "text": [
      "Epoch 1/10\n",
      "159/159 [==============================] - 40s 252ms/step - loss: 2.4477 - accuracy: 0.4666 - val_loss: 2.0201 - val_accuracy: 0.5233\n",
      "Epoch 2/10\n",
      "159/159 [==============================] - 39s 246ms/step - loss: 1.7742 - accuracy: 0.5704 - val_loss: 1.6774 - val_accuracy: 0.5953\n",
      "Epoch 3/10\n",
      "159/159 [==============================] - 39s 247ms/step - loss: 1.3046 - accuracy: 0.6663 - val_loss: 1.5184 - val_accuracy: 0.6182\n",
      "Epoch 4/10\n",
      "159/159 [==============================] - 39s 247ms/step - loss: 0.9602 - accuracy: 0.7459 - val_loss: 1.5462 - val_accuracy: 0.6111\n",
      "Epoch 5/10\n",
      "159/159 [==============================] - ETA: 0s - loss: 0.7412 - accuracy: 0.7985\n",
      "Epoch 00005: ReduceLROnPlateau reducing learning rate to 0.0005000000237487257.\n",
      "159/159 [==============================] - 39s 247ms/step - loss: 0.7412 - accuracy: 0.7985 - val_loss: 1.5521 - val_accuracy: 0.6158\n",
      "Epoch 6/10\n",
      "159/159 [==============================] - 39s 246ms/step - loss: 0.5263 - accuracy: 0.8596 - val_loss: 1.5662 - val_accuracy: 0.6269\n",
      "Epoch 7/10\n",
      "159/159 [==============================] - 39s 247ms/step - loss: 0.4222 - accuracy: 0.8867 - val_loss: 1.6165 - val_accuracy: 0.6269\n",
      "Epoch 8/10\n",
      "159/159 [==============================] - 39s 246ms/step - loss: 0.3598 - accuracy: 0.9031 - val_loss: 1.6703 - val_accuracy: 0.6292\n"
     ]
    }
   ],
   "source": [
    "# Fit the model\n",
    "model_bert_blstm_history = model_bert_blstm.fit(x_train,y_train, epochs=10, validation_split=0.2, callbacks=[stop, reduce_lr])"
   ]
  },
  {
   "cell_type": "code",
   "execution_count": 53,
   "metadata": {
    "colab": {
     "base_uri": "https://localhost:8080/",
     "height": 68
    },
    "colab_type": "code",
    "executionInfo": {
     "elapsed": 1596,
     "status": "ok",
     "timestamp": 1597251251280,
     "user": {
      "displayName": "Vishnu Prasad",
      "photoUrl": "",
      "userId": "08035500217640603750"
     },
     "user_tz": -330
    },
    "id": "d3t9k02FRr9A",
    "outputId": "5b0d27ca-12ee-4a68-9eb2-79f2391120d9"
   },
   "outputs": [
    {
     "name": "stdout",
     "output_type": "stream",
     "text": [
      "Validation accuracy : 62.92\n",
      "50/50 [==============================] - 1s 15ms/step - loss: 1.7483 - accuracy: 0.5984\n",
      "Test accuracy : 59.84\n"
     ]
    }
   ],
   "source": [
    "val_acc_bert_blstm = model_bert_blstm_history.history['val_accuracy']\n",
    "val_acc_bert_blstm = np.round(np.max(val_acc_bert_blstm) * 100, 2)\n",
    "print('Validation accuracy : %0.2f' %(val_acc_bert_blstm))\n",
    "test_acc_bert_blstm = model_bert_blstm.evaluate(x_test,y_test)\n",
    "test_acc_bert_blstm = np.round(test_acc_bert_blstm[1] * 100, 2)\n",
    "print('Test accuracy : %0.2f' %(test_acc_bert_blstm))"
   ]
  },
  {
   "cell_type": "code",
   "execution_count": 54,
   "metadata": {
    "colab": {
     "base_uri": "https://localhost:8080/",
     "height": 282
    },
    "colab_type": "code",
    "executionInfo": {
     "elapsed": 1203,
     "status": "ok",
     "timestamp": 1597251256778,
     "user": {
      "displayName": "Vishnu Prasad",
      "photoUrl": "",
      "userId": "08035500217640603750"
     },
     "user_tz": -330
    },
    "id": "yIq0ObL4ZTV0",
    "outputId": "01253b8e-0057-4a41-b86d-8f8719c200da"
   },
   "outputs": [
    {
     "data": {
      "text/plain": [
       "<matplotlib.legend.Legend at 0x7fc2eeadb390>"
      ]
     },
     "execution_count": 54,
     "metadata": {
      "tags": []
     },
     "output_type": "execute_result"
    },
    {
     "data": {
      "image/png": "[encoded data removed]",
      "text/plain": [
       "<Figure size 432x288 with 1 Axes>"
      ]
     },
     "metadata": {
      "needs_background": "light",
      "tags": []
     },
     "output_type": "display_data"
    }
   ],
   "source": [
    "#plotting epochs versus the accuracy for Training and Validation\n",
    "import matplotlib.pyplot as plt\n",
    "plt.plot(model_bert_blstm_history.epoch,model_bert_blstm_history.history['accuracy'],label='acc')\n",
    "plt.plot(model_bert_blstm_history.epoch,model_bert_blstm_history.history['val_accuracy'],label='val')\n",
    "plt.legend()"
   ]
  },
  {
   "cell_type": "code",
   "execution_count": 55,
   "metadata": {
    "colab": {
     "base_uri": "https://localhost:8080/",
     "height": 282
    },
    "colab_type": "code",
    "executionInfo": {
     "elapsed": 831,
     "status": "ok",
     "timestamp": 1597251262072,
     "user": {
      "displayName": "Vishnu Prasad",
      "photoUrl": "",
      "userId": "08035500217640603750"
     },
     "user_tz": -330
    },
    "id": "7jmjidJvZTV5",
    "outputId": "fd42783c-c529-4893-bd9e-1513f65b4f69"
   },
   "outputs": [
    {
     "data": {
      "text/plain": [
       "<matplotlib.legend.Legend at 0x7fc2eeaab2e8>"
      ]
     },
     "execution_count": 55,
     "metadata": {
      "tags": []
     },
     "output_type": "execute_result"
    },
    {
     "data": {
      "image/png": "[encoded data removed]",
      "text/plain": [
       "<Figure size 432x288 with 1 Axes>"
      ]
     },
     "metadata": {
      "needs_background": "light",
      "tags": []
     },
     "output_type": "display_data"
    }
   ],
   "source": [
    "#Plotting epochs versus the loss for Training and Validation\n",
    "plt.plot(model_bert_blstm_history.epoch,model_bert_blstm_history.history['loss'],label='acc')\n",
    "plt.plot(model_bert_blstm_history.epoch,model_bert_blstm_history.history['val_loss'],label='val')\n",
    "plt.legend()"
   ]
  },
  {
   "cell_type": "markdown",
   "metadata": {
    "colab_type": "text",
    "id": "-dWD3N5rSn3B"
   },
   "source": [
    "Model 18 : Self Attention Bi directional-LSTM with BERT Embedding on Raw data"
   ]
  },
  {
   "cell_type": "code",
   "execution_count": 56,
   "metadata": {
    "colab": {
     "base_uri": "https://localhost:8080/",
     "height": 292
    },
    "colab_type": "code",
    "executionInfo": {
     "elapsed": 5721,
     "status": "ok",
     "timestamp": 1597251271819,
     "user": {
      "displayName": "Vishnu Prasad",
      "photoUrl": "",
      "userId": "08035500217640603750"
     },
     "user_tz": -330
    },
    "id": "1MZ9dqU9S7KD",
    "outputId": "37f1fb7e-e89e-4d96-a6a8-66d207e287e6"
   },
   "outputs": [
    {
     "name": "stdout",
     "output_type": "stream",
     "text": [
      "Collecting keras-self-attention\n",
      "  Downloading https://files.pythonhosted.org/packages/39/0d/b8ab8469ae55cea199574f4d2c30da4656d310a833a67bb422ad8a056bf0/keras-self-attention-0.47.0.tar.gz\n",
      "Requirement already satisfied: numpy in /usr/local/lib/python3.6/dist-packages (from keras-self-attention) (1.18.5)\n",
      "Requirement already satisfied: Keras in /usr/local/lib/python3.6/dist-packages (from keras-self-attention) (2.4.3)\n",
      "Requirement already satisfied: scipy>=0.14 in /usr/local/lib/python3.6/dist-packages (from Keras->keras-self-attention) (1.4.1)\n",
      "Requirement already satisfied: h5py in /usr/local/lib/python3.6/dist-packages (from Keras->keras-self-attention) (2.10.0)\n",
      "Requirement already satisfied: pyyaml in /usr/local/lib/python3.6/dist-packages (from Keras->keras-self-attention) (3.13)\n",
      "Requirement already satisfied: six in /usr/local/lib/python3.6/dist-packages (from h5py->Keras->keras-self-attention) (1.15.0)\n",
      "Building wheels for collected packages: keras-self-attention\n",
      "  Building wheel for keras-self-attention (setup.py) ... \u001b[?25l\u001b[?25hdone\n",
      "  Created wheel for keras-self-attention: filename=keras_self_attention-0.47.0-cp36-none-any.whl size=17289 sha256=74fdd41d1c73e211b407640d94bb64b12b0578c0d3675e8a7a14f6f0cb6e4442\n",
      "  Stored in directory: /root/.cache/pip/wheels/70/87/01/76c703d5401b65e323927c1fdc665f3fb143282ff67d71e859\n",
      "Successfully built keras-self-attention\n",
      "Installing collected packages: keras-self-attention\n",
      "Successfully installed keras-self-attention-0.47.0\n"
     ]
    }
   ],
   "source": [
    "!pip install keras-self-attention"
   ]
  },
  {
   "cell_type": "code",
   "execution_count": 57,
   "metadata": {
    "colab": {
     "base_uri": "https://localhost:8080/",
     "height": 289
    },
    "colab_type": "code",
    "executionInfo": {
     "elapsed": 1232,
     "status": "ok",
     "timestamp": 1597251274989,
     "user": {
      "displayName": "Vishnu Prasad",
      "photoUrl": "",
      "userId": "08035500217640603750"
     },
     "user_tz": -330
    },
    "id": "HVZWnF4DS8W7",
    "outputId": "e743be38-5cd9-4ae1-f68e-9e5dd9cc8025"
   },
   "outputs": [
    {
     "name": "stdout",
     "output_type": "stream",
     "text": [
      "Model: \"sequential_3\"\n",
      "_________________________________________________________________\n",
      "Layer (type)                 Output Shape              Param #   \n",
      "=================================================================\n",
      "embedding_2 (Embedding)      (None, 200, 768)          23440896  \n",
      "_________________________________________________________________\n",
      "bidirectional_1 (Bidirection (None, 200, 200)          695200    \n",
      "_________________________________________________________________\n",
      "seq_weighted_attention (SeqW (None, 200)               201       \n",
      "_________________________________________________________________\n",
      "dense_2 (Dense)              (None, 74)                14874     \n",
      "=================================================================\n",
      "Total params: 24,151,171\n",
      "Trainable params: 24,151,171\n",
      "Non-trainable params: 0\n",
      "_________________________________________________________________\n"
     ]
    }
   ],
   "source": [
    "# Import Weighted Self Attention layer\n",
    "import keras\n",
    "from keras_self_attention import SeqWeightedAttention\n",
    "\n",
    "# Model building, compiling and summary\n",
    "vocab_size=bert_embedding_matrix.shape[0]\n",
    "embedding_size=bert_embedding_matrix.shape[1]\n",
    "max_len=200\n",
    "\n",
    "model_bert_sa = keras.models.Sequential()\n",
    "\n",
    "e = Embedding(vocab_size, embedding_size, input_length=max_len, weights=[bert_embedding_matrix])\n",
    "model_bert_sa.add(e)\n",
    "model_bert_sa.add(Bidirectional(LSTM(100, return_sequences=True)))\n",
    "model_bert_sa.add(SeqWeightedAttention())\n",
    "model_bert_sa.add(Dense(74, activation = 'softmax'))\n",
    "\n",
    "model_bert_sa.compile(optimizer='Adam', loss=['binary_crossentropy'], metrics=['accuracy'])\n",
    "\n",
    "model_bert_sa.summary()"
   ]
  },
  {
   "cell_type": "code",
   "execution_count": 60,
   "metadata": {
    "colab": {
     "base_uri": "https://localhost:8080/",
     "height": 391
    },
    "colab_type": "code",
    "executionInfo": {
     "elapsed": 321438,
     "status": "ok",
     "timestamp": 1597252292111,
     "user": {
      "displayName": "Vishnu Prasad",
      "photoUrl": "",
      "userId": "08035500217640603750"
     },
     "user_tz": -330
    },
    "id": "FFEKCSPUTLPY",
    "outputId": "e58204ab-6d28-4c36-a609-9f5809fc65f8"
   },
   "outputs": [
    {
     "name": "stdout",
     "output_type": "stream",
     "text": [
      "Epoch 1/10\n",
      "159/159 [==============================] - 40s 250ms/step - loss: 0.0039 - accuracy: 0.9381 - val_loss: 0.0412 - val_accuracy: 0.6245\n",
      "Epoch 2/10\n",
      "159/159 [==============================] - 40s 250ms/step - loss: 0.0038 - accuracy: 0.9413 - val_loss: 0.0413 - val_accuracy: 0.6221\n",
      "Epoch 3/10\n",
      "159/159 [==============================] - ETA: 0s - loss: 0.0037 - accuracy: 0.9413\n",
      "Epoch 00003: ReduceLROnPlateau reducing learning rate to 0.0002500000118743628.\n",
      "159/159 [==============================] - 40s 250ms/step - loss: 0.0037 - accuracy: 0.9413 - val_loss: 0.0409 - val_accuracy: 0.6221\n",
      "Epoch 4/10\n",
      "159/159 [==============================] - 40s 250ms/step - loss: 0.0034 - accuracy: 0.9480 - val_loss: 0.0421 - val_accuracy: 0.6229\n",
      "Epoch 5/10\n",
      "159/159 [==============================] - ETA: 0s - loss: 0.0033 - accuracy: 0.9472\n",
      "Epoch 00005: ReduceLROnPlateau reducing learning rate to 0.0001250000059371814.\n",
      "159/159 [==============================] - 40s 251ms/step - loss: 0.0033 - accuracy: 0.9472 - val_loss: 0.0424 - val_accuracy: 0.6174\n",
      "Epoch 6/10\n",
      "159/159 [==============================] - 40s 250ms/step - loss: 0.0032 - accuracy: 0.9486 - val_loss: 0.0426 - val_accuracy: 0.6166\n",
      "Epoch 7/10\n",
      "159/159 [==============================] - ETA: 0s - loss: 0.0031 - accuracy: 0.9480\n",
      "Epoch 00007: ReduceLROnPlateau reducing learning rate to 6.25000029685907e-05.\n",
      "159/159 [==============================] - 40s 251ms/step - loss: 0.0031 - accuracy: 0.9480 - val_loss: 0.0431 - val_accuracy: 0.6158\n",
      "Epoch 8/10\n",
      "159/159 [==============================] - 40s 250ms/step - loss: 0.0031 - accuracy: 0.9488 - val_loss: 0.0434 - val_accuracy: 0.6182\n"
     ]
    }
   ],
   "source": [
    "# Fit the model\n",
    "model_bert_sa_history = model_bert_sa.fit(x_train,y_train, epochs=10, validation_split=0.2, callbacks=[stop, reduce_lr])"
   ]
  },
  {
   "cell_type": "code",
   "execution_count": 61,
   "metadata": {
    "colab": {
     "base_uri": "https://localhost:8080/",
     "height": 68
    },
    "colab_type": "code",
    "executionInfo": {
     "elapsed": 2673,
     "status": "ok",
     "timestamp": 1597252318891,
     "user": {
      "displayName": "Vishnu Prasad",
      "photoUrl": "",
      "userId": "08035500217640603750"
     },
     "user_tz": -330
    },
    "id": "qoxjJrp5TTBo",
    "outputId": "4a1b3fa6-23d2-463e-a0cf-7dab6caaabd0"
   },
   "outputs": [
    {
     "name": "stdout",
     "output_type": "stream",
     "text": [
      "Validation accuracy : 62.45\n",
      "50/50 [==============================] - 1s 14ms/step - loss: 0.0439 - accuracy: 0.6028\n",
      "Test accuracy : 60.28\n"
     ]
    }
   ],
   "source": [
    "val_acc_bert_sa = model_bert_sa_history.history['val_accuracy']\n",
    "val_acc_bert_sa = np.round(np.max(val_acc_bert_sa) * 100, 2)\n",
    "print('Validation accuracy : %0.2f' %(val_acc_bert_sa))\n",
    "test_acc_bert_sa = model_bert_sa.evaluate(x_test,y_test)\n",
    "test_acc_bert_sa = np.round(test_acc_bert_sa[1] * 100, 2)\n",
    "print('Test accuracy : %0.2f' %(test_acc_bert_sa))"
   ]
  },
  {
   "cell_type": "code",
   "execution_count": 62,
   "metadata": {
    "colab": {
     "base_uri": "https://localhost:8080/",
     "height": 282
    },
    "colab_type": "code",
    "executionInfo": {
     "elapsed": 2550,
     "status": "ok",
     "timestamp": 1597252335598,
     "user": {
      "displayName": "Vishnu Prasad",
      "photoUrl": "",
      "userId": "08035500217640603750"
     },
     "user_tz": -330
    },
    "id": "9_uB1PY3TcJ9",
    "outputId": "ba63203e-4be2-49fa-c587-8a70779df66e"
   },
   "outputs": [
    {
     "data": {
      "text/plain": [
       "<matplotlib.legend.Legend at 0x7fc2e559e2e8>"
      ]
     },
     "execution_count": 62,
     "metadata": {
      "tags": []
     },
     "output_type": "execute_result"
    },
    {
     "data": {
      "image/png": "[encoded data removed]",
      "text/plain": [
       "<Figure size 432x288 with 1 Axes>"
      ]
     },
     "metadata": {
      "needs_background": "light",
      "tags": []
     },
     "output_type": "display_data"
    }
   ],
   "source": [
    "#plotting epochs versus the accuracy for Training and Validation\n",
    "import matplotlib.pyplot as plt\n",
    "plt.plot(model_bert_sa_history.epoch,model_bert_sa_history.history['accuracy'],label='acc')\n",
    "plt.plot(model_bert_sa_history.epoch,model_bert_sa_history.history['val_accuracy'],label='val')\n",
    "plt.legend()"
   ]
  },
  {
   "cell_type": "code",
   "execution_count": 63,
   "metadata": {
    "colab": {
     "base_uri": "https://localhost:8080/",
     "height": 284
    },
    "colab_type": "code",
    "executionInfo": {
     "elapsed": 2345,
     "status": "ok",
     "timestamp": 1597252349943,
     "user": {
      "displayName": "Vishnu Prasad",
      "photoUrl": "",
      "userId": "08035500217640603750"
     },
     "user_tz": -330
    },
    "id": "vot3nSfCTioR",
    "outputId": "59d8dfab-5d12-4b1c-d651-0d1526ccf688"
   },
   "outputs": [
    {
     "data": {
      "text/plain": [
       "<matplotlib.legend.Legend at 0x7fc2e5562978>"
      ]
     },
     "execution_count": 63,
     "metadata": {
      "tags": []
     },
     "output_type": "execute_result"
    },
    {
     "data": {
      "image/png": "[encoded data removed]",
      "text/plain": [
       "<Figure size 432x288 with 1 Axes>"
      ]
     },
     "metadata": {
      "needs_background": "light",
      "tags": []
     },
     "output_type": "display_data"
    }
   ],
   "source": [
    "#Plotting epochs versus the loss for Training and Validation\n",
    "plt.plot(model_bert_sa_history.epoch,model_bert_sa_history.history['loss'],label='acc')\n",
    "plt.plot(model_bert_sa_history.epoch,model_bert_sa_history.history['val_loss'],label='val')\n",
    "plt.legend()"
   ]
  },
  {
   "cell_type": "code",
   "execution_count": 64,
   "metadata": {
    "colab": {
     "base_uri": "https://localhost:8080/",
     "height": 159
    },
    "colab_type": "code",
    "executionInfo": {
     "elapsed": 875,
     "status": "ok",
     "timestamp": 1597252434342,
     "user": {
      "displayName": "Vishnu Prasad",
      "photoUrl": "",
      "userId": "08035500217640603750"
     },
     "user_tz": -330
    },
    "id": "8TdoSaq0hV7Z",
    "outputId": "8213458b-ac9b-4640-c975-d76430d96abf"
   },
   "outputs": [
    {
     "name": "stdout",
     "output_type": "stream",
     "text": [
      "Results of BERT embedding on Raw dataset :\n"
     ]
    },
    {
     "data": {
      "text/html": [
       "<div>\n",
       "<style scoped>\n",
       "    .dataframe tbody tr th:only-of-type {\n",
       "        vertical-align: middle;\n",
       "    }\n",
       "\n",
       "    .dataframe tbody tr th {\n",
       "        vertical-align: top;\n",
       "    }\n",
       "\n",
       "    .dataframe thead th {\n",
       "        text-align: right;\n",
       "    }\n",
       "</style>\n",
       "<table border=\"1\" class=\"dataframe\">\n",
       "  <thead>\n",
       "    <tr style=\"text-align: right;\">\n",
       "      <th></th>\n",
       "      <th>Algorithm</th>\n",
       "      <th>Validation Accuracy(%)</th>\n",
       "      <th>Test Accuracy(%)</th>\n",
       "    </tr>\n",
       "  </thead>\n",
       "  <tbody>\n",
       "    <tr>\n",
       "      <th>0</th>\n",
       "      <td>LSTM model with BERT Embedding</td>\n",
       "      <td>42.37</td>\n",
       "      <td>41.37</td>\n",
       "    </tr>\n",
       "    <tr>\n",
       "      <th>1</th>\n",
       "      <td>Bi-LSTM model with BERT Embedding</td>\n",
       "      <td>62.92</td>\n",
       "      <td>59.84</td>\n",
       "    </tr>\n",
       "    <tr>\n",
       "      <th>2</th>\n",
       "      <td>Self Attention with BERT Embedding</td>\n",
       "      <td>62.45</td>\n",
       "      <td>60.28</td>\n",
       "    </tr>\n",
       "  </tbody>\n",
       "</table>\n",
       "</div>"
      ],
      "text/plain": [
       "                            Algorithm  Validation Accuracy(%)  Test Accuracy(%)\n",
       "0      LSTM model with BERT Embedding                   42.37             41.37\n",
       "1   Bi-LSTM model with BERT Embedding                   62.92             59.84\n",
       "2  Self Attention with BERT Embedding                   62.45             60.28"
      ]
     },
     "execution_count": 64,
     "metadata": {
      "tags": []
     },
     "output_type": "execute_result"
    }
   ],
   "source": [
    "bert_raw_df = pd.DataFrame({'Algorithm' : ['LSTM model with BERT Embedding', ' Bi-LSTM model with BERT Embedding', \n",
    "                                        'Self Attention with BERT Embedding'],\n",
    "                         'Validation Accuracy(%)' : [val_acc_bert, val_acc_bert_blstm, val_acc_bert_sa],\n",
    "                         'Test Accuracy(%)' : [test_acc_bert, test_acc_bert_blstm, test_acc_bert_sa]})\n",
    "print('Results of BERT embedding on Raw dataset :')\n",
    "bert_raw_df"
   ]
  },
  {
   "cell_type": "markdown",
   "metadata": {
    "colab_type": "text",
    "id": "KmDezNjBqjRC"
   },
   "source": [
    "####Inferences on raw data\n",
    "\n",
    "As we have tried applying BERT embedding on raw data, results show that the accuracy is less when compared to the dataset with 54 groups. This is mainly due to the highly imbalanced dataset, with majority of inidents belonging to GRP_0."
   ]
  },
  {
   "cell_type": "markdown",
   "metadata": {
    "colab_type": "text",
    "id": "58IGO3sFs5Kz"
   },
   "source": [
    "### Concatenating the results of DL models on dataset with 54 groups"
   ]
  },
  {
   "cell_type": "code",
   "execution_count": null,
   "metadata": {
    "colab": {
     "base_uri": "https://localhost:8080/",
     "height": 252
    },
    "colab_type": "code",
    "executionInfo": {
     "elapsed": 814,
     "status": "ok",
     "timestamp": 1597168087393,
     "user": {
      "displayName": "Vishnu Prasad",
      "photoUrl": "",
      "userId": "08035500217640603750"
     },
     "user_tz": -330
    },
    "id": "YsQTtaabnqaq",
    "outputId": "9a027b84-341c-4568-bb33-48c5ae10bc3d"
   },
   "outputs": [
    {
     "name": "stdout",
     "output_type": "stream",
     "text": [
      "Results of USE and BERT embeddings on Imbalanced dataset :\n"
     ]
    },
    {
     "data": {
      "text/html": [
       "<div>\n",
       "<style scoped>\n",
       "    .dataframe tbody tr th:only-of-type {\n",
       "        vertical-align: middle;\n",
       "    }\n",
       "\n",
       "    .dataframe tbody tr th {\n",
       "        vertical-align: top;\n",
       "    }\n",
       "\n",
       "    .dataframe thead th {\n",
       "        text-align: right;\n",
       "    }\n",
       "</style>\n",
       "<table border=\"1\" class=\"dataframe\">\n",
       "  <thead>\n",
       "    <tr style=\"text-align: right;\">\n",
       "      <th></th>\n",
       "      <th>Algorithm</th>\n",
       "      <th>Validation Accuracy(%)</th>\n",
       "      <th>Test Accuracy(%)</th>\n",
       "    </tr>\n",
       "  </thead>\n",
       "  <tbody>\n",
       "    <tr>\n",
       "      <th>0</th>\n",
       "      <td>LSTM model with USE Embedding</td>\n",
       "      <td>39.13</td>\n",
       "      <td>41.11</td>\n",
       "    </tr>\n",
       "    <tr>\n",
       "      <th>1</th>\n",
       "      <td>Bi-LSTM model with USE Embedding</td>\n",
       "      <td>49.01</td>\n",
       "      <td>52.56</td>\n",
       "    </tr>\n",
       "    <tr>\n",
       "      <th>2</th>\n",
       "      <td>Self Attention with USE Embedding</td>\n",
       "      <td>49.01</td>\n",
       "      <td>49.59</td>\n",
       "    </tr>\n",
       "    <tr>\n",
       "      <th>0</th>\n",
       "      <td>LSTM model with BERT Embedding</td>\n",
       "      <td>98.15</td>\n",
       "      <td>98.15</td>\n",
       "    </tr>\n",
       "    <tr>\n",
       "      <th>1</th>\n",
       "      <td>Bi-LSTM model with BERT Embedding</td>\n",
       "      <td>98.71</td>\n",
       "      <td>98.70</td>\n",
       "    </tr>\n",
       "    <tr>\n",
       "      <th>2</th>\n",
       "      <td>Self Attention with BERT Embedding</td>\n",
       "      <td>98.73</td>\n",
       "      <td>98.73</td>\n",
       "    </tr>\n",
       "  </tbody>\n",
       "</table>\n",
       "</div>"
      ],
      "text/plain": [
       "                            Algorithm  Validation Accuracy(%)  Test Accuracy(%)\n",
       "0       LSTM model with USE Embedding                   39.13             41.11\n",
       "1    Bi-LSTM model with USE Embedding                   49.01             52.56\n",
       "2   Self Attention with USE Embedding                   49.01             49.59\n",
       "0      LSTM model with BERT Embedding                   98.15             98.15\n",
       "1   Bi-LSTM model with BERT Embedding                   98.71             98.70\n",
       "2  Self Attention with BERT Embedding                   98.73             98.73"
      ]
     },
     "execution_count": 150,
     "metadata": {
      "tags": []
     },
     "output_type": "execute_result"
    }
   ],
   "source": [
    "main_frame2 = pd.concat([use_df, bert_df])\n",
    "print('Results of USE and BERT embeddings on Imbalanced dataset :')\n",
    "main_frame2"
   ]
  },
  {
   "cell_type": "code",
   "execution_count": null,
   "metadata": {
    "colab": {},
    "colab_type": "code",
    "id": "PWJT797unyL3"
   },
   "outputs": [],
   "source": [
    "main_frame2.to_excel('USE_BERT_Results_Imbalanced_Data.xlsx')"
   ]
  },
  {
   "cell_type": "markdown",
   "metadata": {
    "colab_type": "text",
    "id": "1Mp03Xqzsdh9"
   },
   "source": [
    "***Plotting the various model metrics***"
   ]
  },
  {
   "cell_type": "code",
   "execution_count": 66,
   "metadata": {
    "colab": {
     "base_uri": "https://localhost:8080/",
     "height": 514
    },
    "colab_type": "code",
    "executionInfo": {
     "elapsed": 784,
     "status": "ok",
     "timestamp": 1597253162358,
     "user": {
      "displayName": "Vishnu Prasad",
      "photoUrl": "",
      "userId": "08035500217640603750"
     },
     "user_tz": -330
    },
    "id": "o7Y2UxfesStW",
    "outputId": "00de9c8e-1144-435f-807e-094aae6956ce"
   },
   "outputs": [
    {
     "data": {
      "text/html": [
       "<div>\n",
       "<style scoped>\n",
       "    .dataframe tbody tr th:only-of-type {\n",
       "        vertical-align: middle;\n",
       "    }\n",
       "\n",
       "    .dataframe tbody tr th {\n",
       "        vertical-align: top;\n",
       "    }\n",
       "\n",
       "    .dataframe thead th {\n",
       "        text-align: right;\n",
       "    }\n",
       "</style>\n",
       "<table border=\"1\" class=\"dataframe\">\n",
       "  <thead>\n",
       "    <tr style=\"text-align: right;\">\n",
       "      <th></th>\n",
       "      <th>Algorithm</th>\n",
       "      <th>Validation Accuracy(%)</th>\n",
       "      <th>Test Accuracy(%)</th>\n",
       "    </tr>\n",
       "  </thead>\n",
       "  <tbody>\n",
       "    <tr>\n",
       "      <th>0</th>\n",
       "      <td>LSTM model with Self Embedding</td>\n",
       "      <td>42.37</td>\n",
       "      <td>41.429475</td>\n",
       "    </tr>\n",
       "    <tr>\n",
       "      <th>1</th>\n",
       "      <td>Bi-LSTM model with Self Embedding</td>\n",
       "      <td>61.26</td>\n",
       "      <td>60.531312</td>\n",
       "    </tr>\n",
       "    <tr>\n",
       "      <th>2</th>\n",
       "      <td>Self Attention with Self Embedding</td>\n",
       "      <td>59.29</td>\n",
       "      <td>56.356734</td>\n",
       "    </tr>\n",
       "    <tr>\n",
       "      <th>3</th>\n",
       "      <td>LSTM model with Glove Embedding</td>\n",
       "      <td>43.40</td>\n",
       "      <td>40.796965</td>\n",
       "    </tr>\n",
       "    <tr>\n",
       "      <th>4</th>\n",
       "      <td>Bi-LSTM model with Glove Embedding</td>\n",
       "      <td>67.51</td>\n",
       "      <td>63.820368</td>\n",
       "    </tr>\n",
       "    <tr>\n",
       "      <th>5</th>\n",
       "      <td>Self Attention with Glove Embedding</td>\n",
       "      <td>66.48</td>\n",
       "      <td>61.733079</td>\n",
       "    </tr>\n",
       "    <tr>\n",
       "      <th>6</th>\n",
       "      <td>LSTM model with Word2Vec Embedding</td>\n",
       "      <td>43.40</td>\n",
       "      <td>40.796965</td>\n",
       "    </tr>\n",
       "    <tr>\n",
       "      <th>7</th>\n",
       "      <td>Bi-LSTM model with Word2Vec Embedding</td>\n",
       "      <td>64.19</td>\n",
       "      <td>62.175840</td>\n",
       "    </tr>\n",
       "    <tr>\n",
       "      <th>8</th>\n",
       "      <td>Self Attention with Word2Vec Embedding</td>\n",
       "      <td>64.98</td>\n",
       "      <td>62.618595</td>\n",
       "    </tr>\n",
       "    <tr>\n",
       "      <th>9</th>\n",
       "      <td>LSTM model with USE Embedding</td>\n",
       "      <td>39.13</td>\n",
       "      <td>41.110000</td>\n",
       "    </tr>\n",
       "    <tr>\n",
       "      <th>10</th>\n",
       "      <td>Bi-LSTM model with USE Embedding</td>\n",
       "      <td>49.01</td>\n",
       "      <td>52.560000</td>\n",
       "    </tr>\n",
       "    <tr>\n",
       "      <th>11</th>\n",
       "      <td>Self Attention with USE Embedding</td>\n",
       "      <td>49.01</td>\n",
       "      <td>49.590000</td>\n",
       "    </tr>\n",
       "    <tr>\n",
       "      <th>12</th>\n",
       "      <td>LSTM model with BERT Embedding</td>\n",
       "      <td>98.15</td>\n",
       "      <td>98.150000</td>\n",
       "    </tr>\n",
       "    <tr>\n",
       "      <th>13</th>\n",
       "      <td>Bi-LSTM model with BERT Embedding</td>\n",
       "      <td>98.71</td>\n",
       "      <td>98.700000</td>\n",
       "    </tr>\n",
       "    <tr>\n",
       "      <th>14</th>\n",
       "      <td>Self Attention with BERT Embedding</td>\n",
       "      <td>98.73</td>\n",
       "      <td>98.730000</td>\n",
       "    </tr>\n",
       "  </tbody>\n",
       "</table>\n",
       "</div>"
      ],
      "text/plain": [
       "                                 Algorithm  ...  Test Accuracy(%)\n",
       "0           LSTM model with Self Embedding  ...         41.429475\n",
       "1        Bi-LSTM model with Self Embedding  ...         60.531312\n",
       "2       Self Attention with Self Embedding  ...         56.356734\n",
       "3          LSTM model with Glove Embedding  ...         40.796965\n",
       "4       Bi-LSTM model with Glove Embedding  ...         63.820368\n",
       "5      Self Attention with Glove Embedding  ...         61.733079\n",
       "6       LSTM model with Word2Vec Embedding  ...         40.796965\n",
       "7    Bi-LSTM model with Word2Vec Embedding  ...         62.175840\n",
       "8   Self Attention with Word2Vec Embedding  ...         62.618595\n",
       "9            LSTM model with USE Embedding  ...         41.110000\n",
       "10        Bi-LSTM model with USE Embedding  ...         52.560000\n",
       "11       Self Attention with USE Embedding  ...         49.590000\n",
       "12          LSTM model with BERT Embedding  ...         98.150000\n",
       "13       Bi-LSTM model with BERT Embedding  ...         98.700000\n",
       "14      Self Attention with BERT Embedding  ...         98.730000\n",
       "\n",
       "[15 rows x 3 columns]"
      ]
     },
     "execution_count": 66,
     "metadata": {
      "tags": []
     },
     "output_type": "execute_result"
    }
   ],
   "source": [
    "df_1 = pd.read_excel('Glove_W2V_Results_Imbalanced_Data.xlsx') # This is generated from v1 file on DL models\n",
    "df_2 = pd.read_excel('USE_BERT_Results_Imbalanced_Data.xlsx')\n",
    "\n",
    "model_df = pd.concat([df_1, df_2], ignore_index=True)\n",
    "model_df"
   ]
  },
  {
   "cell_type": "code",
   "execution_count": 82,
   "metadata": {
    "colab": {
     "base_uri": "https://localhost:8080/",
     "height": 806
    },
    "colab_type": "code",
    "executionInfo": {
     "elapsed": 984,
     "status": "ok",
     "timestamp": 1597253634641,
     "user": {
      "displayName": "Vishnu Prasad",
      "photoUrl": "",
      "userId": "08035500217640603750"
     },
     "user_tz": -330
    },
    "id": "LRczHf-Etu33",
    "outputId": "2359d74b-4dd5-4837-d451-783ad3a6ce52"
   },
   "outputs": [
    {
     "data": {
      "image/png": "[encoded data removed]",
      "text/plain": [
       "<Figure size 720x720 with 1 Axes>"
      ]
     },
     "metadata": {
      "needs_background": "light",
      "tags": []
     },
     "output_type": "display_data"
    }
   ],
   "source": [
    "import seaborn as sns\n",
    "plt.figure(figsize=(10,10))\n",
    "sns.barplot(model_df['Algorithm'], model_df['Test Accuracy(%)'], )\n",
    "\n",
    "plt.xticks(rotation=90)\n",
    "plt.show()"
   ]
  },
  {
   "cell_type": "markdown",
   "metadata": {
    "colab_type": "text",
    "id": "5q9m7GWYvW2I"
   },
   "source": [
    "So the best model so far is applying BERT embedding on the dataset with 54 groups, with either LSTM, Bi-LSTM or Self Attention. We have achieved around 98% accuracy for both validation and test sets. "
   ]
  },
  {
   "cell_type": "markdown",
   "metadata": {
    "colab_type": "text",
    "id": "x8LKqnii14cp"
   },
   "source": [
    "**Conclusion**\n",
    "\n",
    "We have tried both ML and DL models on text dataset. We have applied various techniques in NLP for pre-processing the dataset, worked on couple of approaches for ML models , reduced the groups to 54 for DL models. \n",
    "\n",
    "Below are the conclusions:\n",
    "\n",
    "1. As expected, Machine Learning models achieve less accuracy in predicting the groups when compared to Deep Learning models.\n",
    "\n",
    "2. Out of all the models, we achieved best results for self attention Bi-LSTM model with BERT embedding on the dataset with 54 groups. \n",
    "\n",
    "3. We have also tried BERT on raw data, i.e., 74 groups. But the models seem to overfit the training data due to high imbalance. \n",
    "\n",
    "4. In order to decide the best model, we have to agree with the business users on selecting either the dataset with 54 groups or raw data. \n",
    "\n",
    "5. In the raw dataset, accuracy is compromised. We can check with the business in case if its possible to get more data on minority groups. If not possible, we need to trade-off accuracy on the raw dataset. \n",
    "\n",
    "6. If business is convinced to reduce the dataset with 54 groups, then we can showcase a model that can achieve the best accuracy, when using BERT embedding on Self Attention Bi-LSTM model. \n",
    "\n"
   ]
  }
 ],
 "metadata": {
  "accelerator": "GPU",
  "colab": {
   "authorship_tag": "ABX9TyO72mERD0+FjiE/ZKDgOj2v",
   "collapsed_sections": [],
   "name": "Capstone_NLP_v2.ipynb",
   "provenance": []
  },
  "kernelspec": {
   "display_name": "Python 3",
   "language": "python",
   "name": "python3"
  },
  "language_info": {
   "codemirror_mode": {
    "name": "ipython",
    "version": 3
   },
   "file_extension": ".py",
   "mimetype": "text/x-python",
   "name": "python",
   "nbconvert_exporter": "python",
   "pygments_lexer": "ipython3",
   "version": "3.7.4"
  }
 },
 "nbformat": 4,
 "nbformat_minor": 1
}
